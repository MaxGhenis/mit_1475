{
 "cells": [
  {
   "cell_type": "markdown",
   "metadata": {},
   "source": [
    "# MIT 14.75 Problem Set 5 Question 1\n",
    "\n",
    "## Setup"
   ]
  },
  {
   "cell_type": "code",
   "execution_count": 23,
   "metadata": {},
   "outputs": [],
   "source": [
    "library(tidyverse)\n",
    "library(stargazer)\n",
    "library(texreg)\n",
    "library(IRdisplay)\n",
    "library(lfe)"
   ]
  },
  {
   "cell_type": "code",
   "execution_count": 2,
   "metadata": {},
   "outputs": [],
   "source": [
    "load(\"mss_repdata.RData\")"
   ]
  },
  {
   "cell_type": "markdown",
   "metadata": {},
   "source": [
    "Function for clustered standard errors in `summary()`. See [this post](https://economictheoryblog.com/2018/05/18/cluster-robust-standard-errors-in-stargazer/)"
   ]
  },
  {
   "cell_type": "code",
   "execution_count": 3,
   "metadata": {},
   "outputs": [
    {
     "name": "stderr",
     "output_type": "stream",
     "text": [
      "Loading required package: bitops\n",
      "\n",
      "Attaching package: ‘RCurl’\n",
      "\n",
      "The following object is masked from ‘package:tidyr’:\n",
      "\n",
      "    complete\n",
      "\n"
     ]
    }
   ],
   "source": [
    "# load necessary packages for importing the function\n",
    "library(RCurl)\n",
    " \n",
    "# import the function from repository\n",
    "url_robust <- \"https://raw.githubusercontent.com/IsidoreBeautrelet/economictheoryblog/master/robust_summary.R\"\n",
    "eval(parse(text = getURL(url_robust, ssl.verifypeer = FALSE)),\n",
    "     envir=.GlobalEnv)"
   ]
  },
  {
   "cell_type": "markdown",
   "metadata": {},
   "source": [
    "## (a)\n",
    "\n",
    "* Column 1: Economic growth rate ~ (growth in rainfall, t) + (growth in rainfall, t-1), clustered by country.\n",
    "* Column 3: Column 1 + country fixed effects + country-specific time trends\n",
    "* Column 5: Column 3 + (growth in terms of trade, t)"
   ]
  },
  {
   "cell_type": "code",
   "execution_count": 4,
   "metadata": {},
   "outputs": [],
   "source": [
    "cclust <- function(m) {\n",
    "    return(coef(summary(m, cluster = c(\"country_name\")))[, 2])\n",
    "}\n",
    "\n",
    "rmse <- function(m, digits=2) {\n",
    "    return(round(sqrt(mean(m$residuals^2)), digits))\n",
    "}"
   ]
  },
  {
   "cell_type": "code",
   "execution_count": 5,
   "metadata": {},
   "outputs": [],
   "source": [
    "fs1 = lm(gdp_g ~ GPCP_g + GPCP_g_l, data=mss_repdata)"
   ]
  },
  {
   "cell_type": "code",
   "execution_count": 6,
   "metadata": {},
   "outputs": [],
   "source": [
    "fs3 = lm(gdp_g ~ GPCP_g + GPCP_g_l + factor(country_name) +\n",
    "         factor(country_name) * year, data=mss_repdata)"
   ]
  },
  {
   "cell_type": "code",
   "execution_count": 7,
   "metadata": {},
   "outputs": [],
   "source": [
    "fs5 = lm(gdp_g ~ GPCP_g + GPCP_g_l + factor(country_name) +\n",
    "         factor(country_name) * year + tot_100_g, data=mss_repdata)"
   ]
  },
  {
   "cell_type": "code",
   "execution_count": 17,
   "metadata": {},
   "outputs": [
    {
     "data": {
      "text/html": [
       "<span style=white-space:pre-wrap>'\\n=========================================================================================\\n                                                       Model 1     Model 2     Model 3   \\n-----------------------------------------------------------------------------------------\\n(Intercept)                                             -0.01 *      1.24       -6.35    \\n                                                        (0.00)      (5.82)      (9.37)   \\nGPCP_g                                                   0.06 ***    0.05 ***    0.05 ***\\n                                                        (0.01)      (0.01)      (0.01)   \\nGPCP_g_l                                                 0.03 *      0.03 *      0.04 ** \\n                                                        (0.01)      (0.01)      (0.01)   \\nfactor(country_name)Benin                                           -6.10        1.55    \\n                                                                    (8.24)     (10.76)   \\nfactor(country_name)Botswana                                        -0.07        8.56    \\n                                                                    (8.24)     (11.26)   \\nfactor(country_name)Burkina Faso                                    -0.98        6.69    \\n                                                                    (8.24)     (10.76)   \\nfactor(country_name)Burundi                                          6.86       14.37    \\n                                                                    (8.24)     (10.75)   \\nfactor(country_name)Cameroon                                         3.64       11.26    \\n                                                                    (8.24)     (10.76)   \\nfactor(country_name)Central African Republic                        -6.37        1.19    \\n                                                                    (8.24)     (10.98)   \\nfactor(country_name)Chad                                            -7.22       -1.06    \\n                                                                    (8.25)     (11.27)   \\nfactor(country_name)Congo                                           12.10       19.63    \\n                                                                    (8.24)     (10.75)   \\nfactor(country_name)Djibouti                                       -30.56 *              \\n                                                                   (14.48)               \\nfactor(country_name)Ethiopia                                        -4.77        2.78    \\n                                                                    (8.24)     (10.99)   \\nfactor(country_name)Gabon                                           -5.83        1.70    \\n                                                                    (8.24)     (10.76)   \\nfactor(country_name)Gambia                                          -8.27       -0.75    \\n                                                                    (8.24)     (10.76)   \\nfactor(country_name)Ghana                                           -9.32       -1.74    \\n                                                                    (8.24)     (10.76)   \\nfactor(country_name)Guinea                                          -6.49        3.39    \\n                                                                    (8.24)     (13.24)   \\nfactor(country_name)Guinea-Bissau                                   13.50       21.08    \\n                                                                    (8.24)     (10.75)   \\nfactor(country_name)Ivory Coast                                     -7.41        0.18    \\n                                                                    (8.24)     (10.76)   \\nfactor(country_name)Kenya                                           -3.03        4.62    \\n                                                                    (8.24)     (10.77)   \\nfactor(country_name)Lesotho                                         -2.78        4.84    \\n                                                                    (8.24)     (10.99)   \\nfactor(country_name)Liberia                                          6.36                \\n                                                                   (14.46)               \\nfactor(country_name)Madagascar                                      -8.97       -1.41    \\n                                                                    (8.24)     (10.75)   \\nfactor(country_name)Malawi                                          -5.83        1.82    \\n                                                                    (8.24)     (10.76)   \\nfactor(country_name)Mali                                            -3.19        4.56    \\n                                                                    (8.24)     (10.77)   \\nfactor(country_name)Mauritania                                      -3.79        3.97    \\n                                                                    (8.25)     (10.77)   \\nfactor(country_name)Mozambique                                     -12.92       -5.28    \\n                                                                    (8.24)     (10.76)   \\nfactor(country_name)Namibia                                         -8.87       -1.80    \\n                                                                   (18.93)     (18.83)   \\nfactor(country_name)Niger                                           -4.39        3.54    \\n                                                                    (8.26)     (10.79)   \\nfactor(country_name)Nigeria                                         -7.36        0.25    \\n                                                                    (8.24)     (10.77)   \\nfactor(country_name)Rwanda                                          -3.24        5.25    \\n                                                                    (8.24)     (10.98)   \\nfactor(country_name)Senegal                                         -2.90        4.68    \\n                                                                    (8.24)     (10.76)   \\nfactor(country_name)Sierra Leone                                     5.12       12.63    \\n                                                                    (8.24)     (10.75)   \\nfactor(country_name)Somalia                                         13.95                \\n                                                                   (14.51)               \\nfactor(country_name)South Africa                                    -1.97        5.61    \\n                                                                    (8.24)     (10.76)   \\nfactor(country_name)Sudan                                          -11.10                \\n                                                                    (8.59)               \\nfactor(country_name)Swaziland                                       -5.20        2.39    \\n                                                                    (8.24)     (10.76)   \\nfactor(country_name)Tanzania, United Republic of                    -1.36        3.87    \\n                                                                    (8.24)     (15.27)   \\nfactor(country_name)Togo                                            -4.85        2.77    \\n                                                                    (8.24)     (10.76)   \\nfactor(country_name)Uganda                                           7.32      -14.64    \\n                                                                    (8.24)     (11.26)   \\nfactor(country_name)Zaire                                            7.19       18.25    \\n                                                                    (8.59)     (11.25)   \\nfactor(country_name)Zambia                                          -3.38        4.26    \\n                                                                    (8.24)     (10.76)   \\nfactor(country_name)Zimbabwe                                        -1.68        5.97    \\n                                                                    (8.24)     (10.76)   \\nyear                                                                -0.00        0.00    \\n                                                                    (0.00)      (0.00)   \\nfactor(country_name)Benin:year                                       0.00       -0.00    \\n                                                                    (0.00)      (0.01)   \\nfactor(country_name)Botswana:year                                    0.00       -0.00    \\n                                                                    (0.00)      (0.01)   \\nfactor(country_name)Burkina Faso:year                                0.00       -0.00    \\n                                                                    (0.00)      (0.01)   \\nfactor(country_name)Burundi:year                                    -0.00       -0.01    \\n                                                                    (0.00)      (0.01)   \\nfactor(country_name)Cameroon:year                                   -0.00       -0.01    \\n                                                                    (0.00)      (0.01)   \\nfactor(country_name)Central African Republic:year                    0.00       -0.00    \\n                                                                    (0.00)      (0.01)   \\nfactor(country_name)Chad:year                                        0.00        0.00    \\n                                                                    (0.00)      (0.01)   \\nfactor(country_name)Congo:year                                      -0.01       -0.01    \\n                                                                    (0.00)      (0.01)   \\nfactor(country_name)Djibouti:year                                    0.02 *              \\n                                                                    (0.01)               \\nfactor(country_name)Ethiopia:year                                    0.00       -0.00    \\n                                                                    (0.00)      (0.01)   \\nfactor(country_name)Gabon:year                                       0.00       -0.00    \\n                                                                    (0.00)      (0.01)   \\nfactor(country_name)Gambia:year                                      0.00        0.00    \\n                                                                    (0.00)      (0.01)   \\nfactor(country_name)Ghana:year                                       0.00        0.00    \\n                                                                    (0.00)      (0.01)   \\nfactor(country_name)Guinea:year                                      0.00       -0.00    \\n                                                                    (0.00)      (0.01)   \\nfactor(country_name)Guinea-Bissau:year                              -0.01       -0.01    \\n                                                                    (0.00)      (0.01)   \\nfactor(country_name)Ivory Coast:year                                 0.00       -0.00    \\n                                                                    (0.00)      (0.01)   \\nfactor(country_name)Kenya:year                                       0.00       -0.00    \\n                                                                    (0.00)      (0.01)   \\nfactor(country_name)Lesotho:year                                     0.00       -0.00    \\n                                                                    (0.00)      (0.01)   \\nfactor(country_name)Liberia:year                                    -0.00                \\n                                                                    (0.01)               \\nfactor(country_name)Madagascar:year                                  0.00        0.00    \\n                                                                    (0.00)      (0.01)   \\nfactor(country_name)Malawi:year                                      0.00       -0.00    \\n                                                                    (0.00)      (0.01)   \\nfactor(country_name)Mali:year                                        0.00       -0.00    \\n                                                                    (0.00)      (0.01)   \\nfactor(country_name)Mauritania:year                                  0.00       -0.00    \\n                                                                    (0.00)      (0.01)   \\nfactor(country_name)Mozambique:year                                  0.01        0.00    \\n                                                                    (0.00)      (0.01)   \\nfactor(country_name)Namibia:year                                     0.00        0.00    \\n                                                                    (0.01)      (0.01)   \\nfactor(country_name)Niger:year                                       0.00       -0.00    \\n                                                                    (0.00)      (0.01)   \\nfactor(country_name)Nigeria:year                                     0.00       -0.00    \\n                                                                    (0.00)      (0.01)   \\nfactor(country_name)Rwanda:year                                      0.00       -0.00    \\n                                                                    (0.00)      (0.01)   \\nfactor(country_name)Senegal:year                                     0.00       -0.00    \\n                                                                    (0.00)      (0.01)   \\nfactor(country_name)Sierra Leone:year                               -0.00       -0.01    \\n                                                                    (0.00)      (0.01)   \\nfactor(country_name)Somalia:year                                    -0.01                \\n                                                                    (0.01)               \\nfactor(country_name)South Africa:year                                0.00       -0.00    \\n                                                                    (0.00)      (0.01)   \\nfactor(country_name)Sudan:year                                       0.01                \\n                                                                    (0.00)               \\nfactor(country_name)Swaziland:year                                   0.00       -0.00    \\n                                                                    (0.00)      (0.01)   \\nfactor(country_name)Tanzania, United Republic of:year                0.00       -0.00    \\n                                                                    (0.00)      (0.01)   \\nfactor(country_name)Togo:year                                        0.00       -0.00    \\n                                                                    (0.00)      (0.01)   \\nfactor(country_name)Uganda:year                                     -0.00        0.01    \\n                                                                    (0.00)      (0.01)   \\nfactor(country_name)Zaire:year                                      -0.00       -0.01    \\n                                                                    (0.00)      (0.01)   \\nfactor(country_name)Zambia:year                                      0.00       -0.00    \\n                                                                    (0.00)      (0.01)   \\nfactor(country_name)Zimbabwe:year                                    0.00       -0.00    \\n                                                                    (0.00)      (0.01)   \\ntot_100_g                                                                       -0.00    \\n                                                                                (0.02)   \\n-----------------------------------------------------------------------------------------\\nR^2                                                      0.02        0.13        0.16    \\nAdj. R^2                                                 0.02        0.02        0.05    \\nNum. obs.                                              743         743         661       \\nRMSE                                                     0.07        0.07        0.06    \\n=========================================================================================\\n*** p &lt; 0.001, ** p &lt; 0.01, * p &lt; 0.05\\n'</span>"
      ],
      "text/latex": [
       "'\\textbackslash{}n=========================================================================================\\textbackslash{}n                                                       Model 1     Model 2     Model 3   \\textbackslash{}n-----------------------------------------------------------------------------------------\\textbackslash{}n(Intercept)                                             -0.01 *      1.24       -6.35    \\textbackslash{}n                                                        (0.00)      (5.82)      (9.37)   \\textbackslash{}nGPCP\\_g                                                   0.06 ***    0.05 ***    0.05 ***\\textbackslash{}n                                                        (0.01)      (0.01)      (0.01)   \\textbackslash{}nGPCP\\_g\\_l                                                 0.03 *      0.03 *      0.04 ** \\textbackslash{}n                                                        (0.01)      (0.01)      (0.01)   \\textbackslash{}nfactor(country\\_name)Benin                                           -6.10        1.55    \\textbackslash{}n                                                                    (8.24)     (10.76)   \\textbackslash{}nfactor(country\\_name)Botswana                                        -0.07        8.56    \\textbackslash{}n                                                                    (8.24)     (11.26)   \\textbackslash{}nfactor(country\\_name)Burkina Faso                                    -0.98        6.69    \\textbackslash{}n                                                                    (8.24)     (10.76)   \\textbackslash{}nfactor(country\\_name)Burundi                                          6.86       14.37    \\textbackslash{}n                                                                    (8.24)     (10.75)   \\textbackslash{}nfactor(country\\_name)Cameroon                                         3.64       11.26    \\textbackslash{}n                                                                    (8.24)     (10.76)   \\textbackslash{}nfactor(country\\_name)Central African Republic                        -6.37        1.19    \\textbackslash{}n                                                                    (8.24)     (10.98)   \\textbackslash{}nfactor(country\\_name)Chad                                            -7.22       -1.06    \\textbackslash{}n                                                                    (8.25)     (11.27)   \\textbackslash{}nfactor(country\\_name)Congo                                           12.10       19.63    \\textbackslash{}n                                                                    (8.24)     (10.75)   \\textbackslash{}nfactor(country\\_name)Djibouti                                       -30.56 *              \\textbackslash{}n                                                                   (14.48)               \\textbackslash{}nfactor(country\\_name)Ethiopia                                        -4.77        2.78    \\textbackslash{}n                                                                    (8.24)     (10.99)   \\textbackslash{}nfactor(country\\_name)Gabon                                           -5.83        1.70    \\textbackslash{}n                                                                    (8.24)     (10.76)   \\textbackslash{}nfactor(country\\_name)Gambia                                          -8.27       -0.75    \\textbackslash{}n                                                                    (8.24)     (10.76)   \\textbackslash{}nfactor(country\\_name)Ghana                                           -9.32       -1.74    \\textbackslash{}n                                                                    (8.24)     (10.76)   \\textbackslash{}nfactor(country\\_name)Guinea                                          -6.49        3.39    \\textbackslash{}n                                                                    (8.24)     (13.24)   \\textbackslash{}nfactor(country\\_name)Guinea-Bissau                                   13.50       21.08    \\textbackslash{}n                                                                    (8.24)     (10.75)   \\textbackslash{}nfactor(country\\_name)Ivory Coast                                     -7.41        0.18    \\textbackslash{}n                                                                    (8.24)     (10.76)   \\textbackslash{}nfactor(country\\_name)Kenya                                           -3.03        4.62    \\textbackslash{}n                                                                    (8.24)     (10.77)   \\textbackslash{}nfactor(country\\_name)Lesotho                                         -2.78        4.84    \\textbackslash{}n                                                                    (8.24)     (10.99)   \\textbackslash{}nfactor(country\\_name)Liberia                                          6.36                \\textbackslash{}n                                                                   (14.46)               \\textbackslash{}nfactor(country\\_name)Madagascar                                      -8.97       -1.41    \\textbackslash{}n                                                                    (8.24)     (10.75)   \\textbackslash{}nfactor(country\\_name)Malawi                                          -5.83        1.82    \\textbackslash{}n                                                                    (8.24)     (10.76)   \\textbackslash{}nfactor(country\\_name)Mali                                            -3.19        4.56    \\textbackslash{}n                                                                    (8.24)     (10.77)   \\textbackslash{}nfactor(country\\_name)Mauritania                                      -3.79        3.97    \\textbackslash{}n                                                                    (8.25)     (10.77)   \\textbackslash{}nfactor(country\\_name)Mozambique                                     -12.92       -5.28    \\textbackslash{}n                                                                    (8.24)     (10.76)   \\textbackslash{}nfactor(country\\_name)Namibia                                         -8.87       -1.80    \\textbackslash{}n                                                                   (18.93)     (18.83)   \\textbackslash{}nfactor(country\\_name)Niger                                           -4.39        3.54    \\textbackslash{}n                                                                    (8.26)     (10.79)   \\textbackslash{}nfactor(country\\_name)Nigeria                                         -7.36        0.25    \\textbackslash{}n                                                                    (8.24)     (10.77)   \\textbackslash{}nfactor(country\\_name)Rwanda                                          -3.24        5.25    \\textbackslash{}n                                                                    (8.24)     (10.98)   \\textbackslash{}nfactor(country\\_name)Senegal                                         -2.90        4.68    \\textbackslash{}n                                                                    (8.24)     (10.76)   \\textbackslash{}nfactor(country\\_name)Sierra Leone                                     5.12       12.63    \\textbackslash{}n                                                                    (8.24)     (10.75)   \\textbackslash{}nfactor(country\\_name)Somalia                                         13.95                \\textbackslash{}n                                                                   (14.51)               \\textbackslash{}nfactor(country\\_name)South Africa                                    -1.97        5.61    \\textbackslash{}n                                                                    (8.24)     (10.76)   \\textbackslash{}nfactor(country\\_name)Sudan                                          -11.10                \\textbackslash{}n                                                                    (8.59)               \\textbackslash{}nfactor(country\\_name)Swaziland                                       -5.20        2.39    \\textbackslash{}n                                                                    (8.24)     (10.76)   \\textbackslash{}nfactor(country\\_name)Tanzania, United Republic of                    -1.36        3.87    \\textbackslash{}n                                                                    (8.24)     (15.27)   \\textbackslash{}nfactor(country\\_name)Togo                                            -4.85        2.77    \\textbackslash{}n                                                                    (8.24)     (10.76)   \\textbackslash{}nfactor(country\\_name)Uganda                                           7.32      -14.64    \\textbackslash{}n                                                                    (8.24)     (11.26)   \\textbackslash{}nfactor(country\\_name)Zaire                                            7.19       18.25    \\textbackslash{}n                                                                    (8.59)     (11.25)   \\textbackslash{}nfactor(country\\_name)Zambia                                          -3.38        4.26    \\textbackslash{}n                                                                    (8.24)     (10.76)   \\textbackslash{}nfactor(country\\_name)Zimbabwe                                        -1.68        5.97    \\textbackslash{}n                                                                    (8.24)     (10.76)   \\textbackslash{}nyear                                                                -0.00        0.00    \\textbackslash{}n                                                                    (0.00)      (0.00)   \\textbackslash{}nfactor(country\\_name)Benin:year                                       0.00       -0.00    \\textbackslash{}n                                                                    (0.00)      (0.01)   \\textbackslash{}nfactor(country\\_name)Botswana:year                                    0.00       -0.00    \\textbackslash{}n                                                                    (0.00)      (0.01)   \\textbackslash{}nfactor(country\\_name)Burkina Faso:year                                0.00       -0.00    \\textbackslash{}n                                                                    (0.00)      (0.01)   \\textbackslash{}nfactor(country\\_name)Burundi:year                                    -0.00       -0.01    \\textbackslash{}n                                                                    (0.00)      (0.01)   \\textbackslash{}nfactor(country\\_name)Cameroon:year                                   -0.00       -0.01    \\textbackslash{}n                                                                    (0.00)      (0.01)   \\textbackslash{}nfactor(country\\_name)Central African Republic:year                    0.00       -0.00    \\textbackslash{}n                                                                    (0.00)      (0.01)   \\textbackslash{}nfactor(country\\_name)Chad:year                                        0.00        0.00    \\textbackslash{}n                                                                    (0.00)      (0.01)   \\textbackslash{}nfactor(country\\_name)Congo:year                                      -0.01       -0.01    \\textbackslash{}n                                                                    (0.00)      (0.01)   \\textbackslash{}nfactor(country\\_name)Djibouti:year                                    0.02 *              \\textbackslash{}n                                                                    (0.01)               \\textbackslash{}nfactor(country\\_name)Ethiopia:year                                    0.00       -0.00    \\textbackslash{}n                                                                    (0.00)      (0.01)   \\textbackslash{}nfactor(country\\_name)Gabon:year                                       0.00       -0.00    \\textbackslash{}n                                                                    (0.00)      (0.01)   \\textbackslash{}nfactor(country\\_name)Gambia:year                                      0.00        0.00    \\textbackslash{}n                                                                    (0.00)      (0.01)   \\textbackslash{}nfactor(country\\_name)Ghana:year                                       0.00        0.00    \\textbackslash{}n                                                                    (0.00)      (0.01)   \\textbackslash{}nfactor(country\\_name)Guinea:year                                      0.00       -0.00    \\textbackslash{}n                                                                    (0.00)      (0.01)   \\textbackslash{}nfactor(country\\_name)Guinea-Bissau:year                              -0.01       -0.01    \\textbackslash{}n                                                                    (0.00)      (0.01)   \\textbackslash{}nfactor(country\\_name)Ivory Coast:year                                 0.00       -0.00    \\textbackslash{}n                                                                    (0.00)      (0.01)   \\textbackslash{}nfactor(country\\_name)Kenya:year                                       0.00       -0.00    \\textbackslash{}n                                                                    (0.00)      (0.01)   \\textbackslash{}nfactor(country\\_name)Lesotho:year                                     0.00       -0.00    \\textbackslash{}n                                                                    (0.00)      (0.01)   \\textbackslash{}nfactor(country\\_name)Liberia:year                                    -0.00                \\textbackslash{}n                                                                    (0.01)               \\textbackslash{}nfactor(country\\_name)Madagascar:year                                  0.00        0.00    \\textbackslash{}n                                                                    (0.00)      (0.01)   \\textbackslash{}nfactor(country\\_name)Malawi:year                                      0.00       -0.00    \\textbackslash{}n                                                                    (0.00)      (0.01)   \\textbackslash{}nfactor(country\\_name)Mali:year                                        0.00       -0.00    \\textbackslash{}n                                                                    (0.00)      (0.01)   \\textbackslash{}nfactor(country\\_name)Mauritania:year                                  0.00       -0.00    \\textbackslash{}n                                                                    (0.00)      (0.01)   \\textbackslash{}nfactor(country\\_name)Mozambique:year                                  0.01        0.00    \\textbackslash{}n                                                                    (0.00)      (0.01)   \\textbackslash{}nfactor(country\\_name)Namibia:year                                     0.00        0.00    \\textbackslash{}n                                                                    (0.01)      (0.01)   \\textbackslash{}nfactor(country\\_name)Niger:year                                       0.00       -0.00    \\textbackslash{}n                                                                    (0.00)      (0.01)   \\textbackslash{}nfactor(country\\_name)Nigeria:year                                     0.00       -0.00    \\textbackslash{}n                                                                    (0.00)      (0.01)   \\textbackslash{}nfactor(country\\_name)Rwanda:year                                      0.00       -0.00    \\textbackslash{}n                                                                    (0.00)      (0.01)   \\textbackslash{}nfactor(country\\_name)Senegal:year                                     0.00       -0.00    \\textbackslash{}n                                                                    (0.00)      (0.01)   \\textbackslash{}nfactor(country\\_name)Sierra Leone:year                               -0.00       -0.01    \\textbackslash{}n                                                                    (0.00)      (0.01)   \\textbackslash{}nfactor(country\\_name)Somalia:year                                    -0.01                \\textbackslash{}n                                                                    (0.01)               \\textbackslash{}nfactor(country\\_name)South Africa:year                                0.00       -0.00    \\textbackslash{}n                                                                    (0.00)      (0.01)   \\textbackslash{}nfactor(country\\_name)Sudan:year                                       0.01                \\textbackslash{}n                                                                    (0.00)               \\textbackslash{}nfactor(country\\_name)Swaziland:year                                   0.00       -0.00    \\textbackslash{}n                                                                    (0.00)      (0.01)   \\textbackslash{}nfactor(country\\_name)Tanzania, United Republic of:year                0.00       -0.00    \\textbackslash{}n                                                                    (0.00)      (0.01)   \\textbackslash{}nfactor(country\\_name)Togo:year                                        0.00       -0.00    \\textbackslash{}n                                                                    (0.00)      (0.01)   \\textbackslash{}nfactor(country\\_name)Uganda:year                                     -0.00        0.01    \\textbackslash{}n                                                                    (0.00)      (0.01)   \\textbackslash{}nfactor(country\\_name)Zaire:year                                      -0.00       -0.01    \\textbackslash{}n                                                                    (0.00)      (0.01)   \\textbackslash{}nfactor(country\\_name)Zambia:year                                      0.00       -0.00    \\textbackslash{}n                                                                    (0.00)      (0.01)   \\textbackslash{}nfactor(country\\_name)Zimbabwe:year                                    0.00       -0.00    \\textbackslash{}n                                                                    (0.00)      (0.01)   \\textbackslash{}ntot\\_100\\_g                                                                       -0.00    \\textbackslash{}n                                                                                (0.02)   \\textbackslash{}n-----------------------------------------------------------------------------------------\\textbackslash{}nR\\textasciicircum{}2                                                      0.02        0.13        0.16    \\textbackslash{}nAdj. R\\textasciicircum{}2                                                 0.02        0.02        0.05    \\textbackslash{}nNum. obs.                                              743         743         661       \\textbackslash{}nRMSE                                                     0.07        0.07        0.06    \\textbackslash{}n=========================================================================================\\textbackslash{}n*** p < 0.001, ** p < 0.01, * p < 0.05\\textbackslash{}n'"
      ],
      "text/markdown": [
       "<span style=white-space:pre-wrap>'\\n=========================================================================================\\n                                                       Model 1     Model 2     Model 3   \\n-----------------------------------------------------------------------------------------\\n(Intercept)                                             -0.01 *      1.24       -6.35    \\n                                                        (0.00)      (5.82)      (9.37)   \\nGPCP_g                                                   0.06 ***    0.05 ***    0.05 ***\\n                                                        (0.01)      (0.01)      (0.01)   \\nGPCP_g_l                                                 0.03 *      0.03 *      0.04 ** \\n                                                        (0.01)      (0.01)      (0.01)   \\nfactor(country_name)Benin                                           -6.10        1.55    \\n                                                                    (8.24)     (10.76)   \\nfactor(country_name)Botswana                                        -0.07        8.56    \\n                                                                    (8.24)     (11.26)   \\nfactor(country_name)Burkina Faso                                    -0.98        6.69    \\n                                                                    (8.24)     (10.76)   \\nfactor(country_name)Burundi                                          6.86       14.37    \\n                                                                    (8.24)     (10.75)   \\nfactor(country_name)Cameroon                                         3.64       11.26    \\n                                                                    (8.24)     (10.76)   \\nfactor(country_name)Central African Republic                        -6.37        1.19    \\n                                                                    (8.24)     (10.98)   \\nfactor(country_name)Chad                                            -7.22       -1.06    \\n                                                                    (8.25)     (11.27)   \\nfactor(country_name)Congo                                           12.10       19.63    \\n                                                                    (8.24)     (10.75)   \\nfactor(country_name)Djibouti                                       -30.56 *              \\n                                                                   (14.48)               \\nfactor(country_name)Ethiopia                                        -4.77        2.78    \\n                                                                    (8.24)     (10.99)   \\nfactor(country_name)Gabon                                           -5.83        1.70    \\n                                                                    (8.24)     (10.76)   \\nfactor(country_name)Gambia                                          -8.27       -0.75    \\n                                                                    (8.24)     (10.76)   \\nfactor(country_name)Ghana                                           -9.32       -1.74    \\n                                                                    (8.24)     (10.76)   \\nfactor(country_name)Guinea                                          -6.49        3.39    \\n                                                                    (8.24)     (13.24)   \\nfactor(country_name)Guinea-Bissau                                   13.50       21.08    \\n                                                                    (8.24)     (10.75)   \\nfactor(country_name)Ivory Coast                                     -7.41        0.18    \\n                                                                    (8.24)     (10.76)   \\nfactor(country_name)Kenya                                           -3.03        4.62    \\n                                                                    (8.24)     (10.77)   \\nfactor(country_name)Lesotho                                         -2.78        4.84    \\n                                                                    (8.24)     (10.99)   \\nfactor(country_name)Liberia                                          6.36                \\n                                                                   (14.46)               \\nfactor(country_name)Madagascar                                      -8.97       -1.41    \\n                                                                    (8.24)     (10.75)   \\nfactor(country_name)Malawi                                          -5.83        1.82    \\n                                                                    (8.24)     (10.76)   \\nfactor(country_name)Mali                                            -3.19        4.56    \\n                                                                    (8.24)     (10.77)   \\nfactor(country_name)Mauritania                                      -3.79        3.97    \\n                                                                    (8.25)     (10.77)   \\nfactor(country_name)Mozambique                                     -12.92       -5.28    \\n                                                                    (8.24)     (10.76)   \\nfactor(country_name)Namibia                                         -8.87       -1.80    \\n                                                                   (18.93)     (18.83)   \\nfactor(country_name)Niger                                           -4.39        3.54    \\n                                                                    (8.26)     (10.79)   \\nfactor(country_name)Nigeria                                         -7.36        0.25    \\n                                                                    (8.24)     (10.77)   \\nfactor(country_name)Rwanda                                          -3.24        5.25    \\n                                                                    (8.24)     (10.98)   \\nfactor(country_name)Senegal                                         -2.90        4.68    \\n                                                                    (8.24)     (10.76)   \\nfactor(country_name)Sierra Leone                                     5.12       12.63    \\n                                                                    (8.24)     (10.75)   \\nfactor(country_name)Somalia                                         13.95                \\n                                                                   (14.51)               \\nfactor(country_name)South Africa                                    -1.97        5.61    \\n                                                                    (8.24)     (10.76)   \\nfactor(country_name)Sudan                                          -11.10                \\n                                                                    (8.59)               \\nfactor(country_name)Swaziland                                       -5.20        2.39    \\n                                                                    (8.24)     (10.76)   \\nfactor(country_name)Tanzania, United Republic of                    -1.36        3.87    \\n                                                                    (8.24)     (15.27)   \\nfactor(country_name)Togo                                            -4.85        2.77    \\n                                                                    (8.24)     (10.76)   \\nfactor(country_name)Uganda                                           7.32      -14.64    \\n                                                                    (8.24)     (11.26)   \\nfactor(country_name)Zaire                                            7.19       18.25    \\n                                                                    (8.59)     (11.25)   \\nfactor(country_name)Zambia                                          -3.38        4.26    \\n                                                                    (8.24)     (10.76)   \\nfactor(country_name)Zimbabwe                                        -1.68        5.97    \\n                                                                    (8.24)     (10.76)   \\nyear                                                                -0.00        0.00    \\n                                                                    (0.00)      (0.00)   \\nfactor(country_name)Benin:year                                       0.00       -0.00    \\n                                                                    (0.00)      (0.01)   \\nfactor(country_name)Botswana:year                                    0.00       -0.00    \\n                                                                    (0.00)      (0.01)   \\nfactor(country_name)Burkina Faso:year                                0.00       -0.00    \\n                                                                    (0.00)      (0.01)   \\nfactor(country_name)Burundi:year                                    -0.00       -0.01    \\n                                                                    (0.00)      (0.01)   \\nfactor(country_name)Cameroon:year                                   -0.00       -0.01    \\n                                                                    (0.00)      (0.01)   \\nfactor(country_name)Central African Republic:year                    0.00       -0.00    \\n                                                                    (0.00)      (0.01)   \\nfactor(country_name)Chad:year                                        0.00        0.00    \\n                                                                    (0.00)      (0.01)   \\nfactor(country_name)Congo:year                                      -0.01       -0.01    \\n                                                                    (0.00)      (0.01)   \\nfactor(country_name)Djibouti:year                                    0.02 *              \\n                                                                    (0.01)               \\nfactor(country_name)Ethiopia:year                                    0.00       -0.00    \\n                                                                    (0.00)      (0.01)   \\nfactor(country_name)Gabon:year                                       0.00       -0.00    \\n                                                                    (0.00)      (0.01)   \\nfactor(country_name)Gambia:year                                      0.00        0.00    \\n                                                                    (0.00)      (0.01)   \\nfactor(country_name)Ghana:year                                       0.00        0.00    \\n                                                                    (0.00)      (0.01)   \\nfactor(country_name)Guinea:year                                      0.00       -0.00    \\n                                                                    (0.00)      (0.01)   \\nfactor(country_name)Guinea-Bissau:year                              -0.01       -0.01    \\n                                                                    (0.00)      (0.01)   \\nfactor(country_name)Ivory Coast:year                                 0.00       -0.00    \\n                                                                    (0.00)      (0.01)   \\nfactor(country_name)Kenya:year                                       0.00       -0.00    \\n                                                                    (0.00)      (0.01)   \\nfactor(country_name)Lesotho:year                                     0.00       -0.00    \\n                                                                    (0.00)      (0.01)   \\nfactor(country_name)Liberia:year                                    -0.00                \\n                                                                    (0.01)               \\nfactor(country_name)Madagascar:year                                  0.00        0.00    \\n                                                                    (0.00)      (0.01)   \\nfactor(country_name)Malawi:year                                      0.00       -0.00    \\n                                                                    (0.00)      (0.01)   \\nfactor(country_name)Mali:year                                        0.00       -0.00    \\n                                                                    (0.00)      (0.01)   \\nfactor(country_name)Mauritania:year                                  0.00       -0.00    \\n                                                                    (0.00)      (0.01)   \\nfactor(country_name)Mozambique:year                                  0.01        0.00    \\n                                                                    (0.00)      (0.01)   \\nfactor(country_name)Namibia:year                                     0.00        0.00    \\n                                                                    (0.01)      (0.01)   \\nfactor(country_name)Niger:year                                       0.00       -0.00    \\n                                                                    (0.00)      (0.01)   \\nfactor(country_name)Nigeria:year                                     0.00       -0.00    \\n                                                                    (0.00)      (0.01)   \\nfactor(country_name)Rwanda:year                                      0.00       -0.00    \\n                                                                    (0.00)      (0.01)   \\nfactor(country_name)Senegal:year                                     0.00       -0.00    \\n                                                                    (0.00)      (0.01)   \\nfactor(country_name)Sierra Leone:year                               -0.00       -0.01    \\n                                                                    (0.00)      (0.01)   \\nfactor(country_name)Somalia:year                                    -0.01                \\n                                                                    (0.01)               \\nfactor(country_name)South Africa:year                                0.00       -0.00    \\n                                                                    (0.00)      (0.01)   \\nfactor(country_name)Sudan:year                                       0.01                \\n                                                                    (0.00)               \\nfactor(country_name)Swaziland:year                                   0.00       -0.00    \\n                                                                    (0.00)      (0.01)   \\nfactor(country_name)Tanzania, United Republic of:year                0.00       -0.00    \\n                                                                    (0.00)      (0.01)   \\nfactor(country_name)Togo:year                                        0.00       -0.00    \\n                                                                    (0.00)      (0.01)   \\nfactor(country_name)Uganda:year                                     -0.00        0.01    \\n                                                                    (0.00)      (0.01)   \\nfactor(country_name)Zaire:year                                      -0.00       -0.01    \\n                                                                    (0.00)      (0.01)   \\nfactor(country_name)Zambia:year                                      0.00       -0.00    \\n                                                                    (0.00)      (0.01)   \\nfactor(country_name)Zimbabwe:year                                    0.00       -0.00    \\n                                                                    (0.00)      (0.01)   \\ntot_100_g                                                                       -0.00    \\n                                                                                (0.02)   \\n-----------------------------------------------------------------------------------------\\nR^2                                                      0.02        0.13        0.16    \\nAdj. R^2                                                 0.02        0.02        0.05    \\nNum. obs.                                              743         743         661       \\nRMSE                                                     0.07        0.07        0.06    \\n=========================================================================================\\n*** p &lt; 0.001, ** p &lt; 0.01, * p &lt; 0.05\\n'</span>"
      ],
      "text/plain": [
       "\n",
       "=========================================================================================\n",
       "                                                       Model 1     Model 2     Model 3   \n",
       "-----------------------------------------------------------------------------------------\n",
       "(Intercept)                                             -0.01 *      1.24       -6.35    \n",
       "                                                        (0.00)      (5.82)      (9.37)   \n",
       "GPCP_g                                                   0.06 ***    0.05 ***    0.05 ***\n",
       "                                                        (0.01)      (0.01)      (0.01)   \n",
       "GPCP_g_l                                                 0.03 *      0.03 *      0.04 ** \n",
       "                                                        (0.01)      (0.01)      (0.01)   \n",
       "factor(country_name)Benin                                           -6.10        1.55    \n",
       "                                                                    (8.24)     (10.76)   \n",
       "factor(country_name)Botswana                                        -0.07        8.56    \n",
       "                                                                    (8.24)     (11.26)   \n",
       "factor(country_name)Burkina Faso                                    -0.98        6.69    \n",
       "                                                                    (8.24)     (10.76)   \n",
       "factor(country_name)Burundi                                          6.86       14.37    \n",
       "                                                                    (8.24)     (10.75)   \n",
       "factor(country_name)Cameroon                                         3.64       11.26    \n",
       "                                                                    (8.24)     (10.76)   \n",
       "factor(country_name)Central African Republic                        -6.37        1.19    \n",
       "                                                                    (8.24)     (10.98)   \n",
       "factor(country_name)Chad                                            -7.22       -1.06    \n",
       "                                                                    (8.25)     (11.27)   \n",
       "factor(country_name)Congo                                           12.10       19.63    \n",
       "                                                                    (8.24)     (10.75)   \n",
       "factor(country_name)Djibouti                                       -30.56 *              \n",
       "                                                                   (14.48)               \n",
       "factor(country_name)Ethiopia                                        -4.77        2.78    \n",
       "                                                                    (8.24)     (10.99)   \n",
       "factor(country_name)Gabon                                           -5.83        1.70    \n",
       "                                                                    (8.24)     (10.76)   \n",
       "factor(country_name)Gambia                                          -8.27       -0.75    \n",
       "                                                                    (8.24)     (10.76)   \n",
       "factor(country_name)Ghana                                           -9.32       -1.74    \n",
       "                                                                    (8.24)     (10.76)   \n",
       "factor(country_name)Guinea                                          -6.49        3.39    \n",
       "                                                                    (8.24)     (13.24)   \n",
       "factor(country_name)Guinea-Bissau                                   13.50       21.08    \n",
       "                                                                    (8.24)     (10.75)   \n",
       "factor(country_name)Ivory Coast                                     -7.41        0.18    \n",
       "                                                                    (8.24)     (10.76)   \n",
       "factor(country_name)Kenya                                           -3.03        4.62    \n",
       "                                                                    (8.24)     (10.77)   \n",
       "factor(country_name)Lesotho                                         -2.78        4.84    \n",
       "                                                                    (8.24)     (10.99)   \n",
       "factor(country_name)Liberia                                          6.36                \n",
       "                                                                   (14.46)               \n",
       "factor(country_name)Madagascar                                      -8.97       -1.41    \n",
       "                                                                    (8.24)     (10.75)   \n",
       "factor(country_name)Malawi                                          -5.83        1.82    \n",
       "                                                                    (8.24)     (10.76)   \n",
       "factor(country_name)Mali                                            -3.19        4.56    \n",
       "                                                                    (8.24)     (10.77)   \n",
       "factor(country_name)Mauritania                                      -3.79        3.97    \n",
       "                                                                    (8.25)     (10.77)   \n",
       "factor(country_name)Mozambique                                     -12.92       -5.28    \n",
       "                                                                    (8.24)     (10.76)   \n",
       "factor(country_name)Namibia                                         -8.87       -1.80    \n",
       "                                                                   (18.93)     (18.83)   \n",
       "factor(country_name)Niger                                           -4.39        3.54    \n",
       "                                                                    (8.26)     (10.79)   \n",
       "factor(country_name)Nigeria                                         -7.36        0.25    \n",
       "                                                                    (8.24)     (10.77)   \n",
       "factor(country_name)Rwanda                                          -3.24        5.25    \n",
       "                                                                    (8.24)     (10.98)   \n",
       "factor(country_name)Senegal                                         -2.90        4.68    \n",
       "                                                                    (8.24)     (10.76)   \n",
       "factor(country_name)Sierra Leone                                     5.12       12.63    \n",
       "                                                                    (8.24)     (10.75)   \n",
       "factor(country_name)Somalia                                         13.95                \n",
       "                                                                   (14.51)               \n",
       "factor(country_name)South Africa                                    -1.97        5.61    \n",
       "                                                                    (8.24)     (10.76)   \n",
       "factor(country_name)Sudan                                          -11.10                \n",
       "                                                                    (8.59)               \n",
       "factor(country_name)Swaziland                                       -5.20        2.39    \n",
       "                                                                    (8.24)     (10.76)   \n",
       "factor(country_name)Tanzania, United Republic of                    -1.36        3.87    \n",
       "                                                                    (8.24)     (15.27)   \n",
       "factor(country_name)Togo                                            -4.85        2.77    \n",
       "                                                                    (8.24)     (10.76)   \n",
       "factor(country_name)Uganda                                           7.32      -14.64    \n",
       "                                                                    (8.24)     (11.26)   \n",
       "factor(country_name)Zaire                                            7.19       18.25    \n",
       "                                                                    (8.59)     (11.25)   \n",
       "factor(country_name)Zambia                                          -3.38        4.26    \n",
       "                                                                    (8.24)     (10.76)   \n",
       "factor(country_name)Zimbabwe                                        -1.68        5.97    \n",
       "                                                                    (8.24)     (10.76)   \n",
       "year                                                                -0.00        0.00    \n",
       "                                                                    (0.00)      (0.00)   \n",
       "factor(country_name)Benin:year                                       0.00       -0.00    \n",
       "                                                                    (0.00)      (0.01)   \n",
       "factor(country_name)Botswana:year                                    0.00       -0.00    \n",
       "                                                                    (0.00)      (0.01)   \n",
       "factor(country_name)Burkina Faso:year                                0.00       -0.00    \n",
       "                                                                    (0.00)      (0.01)   \n",
       "factor(country_name)Burundi:year                                    -0.00       -0.01    \n",
       "                                                                    (0.00)      (0.01)   \n",
       "factor(country_name)Cameroon:year                                   -0.00       -0.01    \n",
       "                                                                    (0.00)      (0.01)   \n",
       "factor(country_name)Central African Republic:year                    0.00       -0.00    \n",
       "                                                                    (0.00)      (0.01)   \n",
       "factor(country_name)Chad:year                                        0.00        0.00    \n",
       "                                                                    (0.00)      (0.01)   \n",
       "factor(country_name)Congo:year                                      -0.01       -0.01    \n",
       "                                                                    (0.00)      (0.01)   \n",
       "factor(country_name)Djibouti:year                                    0.02 *              \n",
       "                                                                    (0.01)               \n",
       "factor(country_name)Ethiopia:year                                    0.00       -0.00    \n",
       "                                                                    (0.00)      (0.01)   \n",
       "factor(country_name)Gabon:year                                       0.00       -0.00    \n",
       "                                                                    (0.00)      (0.01)   \n",
       "factor(country_name)Gambia:year                                      0.00        0.00    \n",
       "                                                                    (0.00)      (0.01)   \n",
       "factor(country_name)Ghana:year                                       0.00        0.00    \n",
       "                                                                    (0.00)      (0.01)   \n",
       "factor(country_name)Guinea:year                                      0.00       -0.00    \n",
       "                                                                    (0.00)      (0.01)   \n",
       "factor(country_name)Guinea-Bissau:year                              -0.01       -0.01    \n",
       "                                                                    (0.00)      (0.01)   \n",
       "factor(country_name)Ivory Coast:year                                 0.00       -0.00    \n",
       "                                                                    (0.00)      (0.01)   \n",
       "factor(country_name)Kenya:year                                       0.00       -0.00    \n",
       "                                                                    (0.00)      (0.01)   \n",
       "factor(country_name)Lesotho:year                                     0.00       -0.00    \n",
       "                                                                    (0.00)      (0.01)   \n",
       "factor(country_name)Liberia:year                                    -0.00                \n",
       "                                                                    (0.01)               \n",
       "factor(country_name)Madagascar:year                                  0.00        0.00    \n",
       "                                                                    (0.00)      (0.01)   \n",
       "factor(country_name)Malawi:year                                      0.00       -0.00    \n",
       "                                                                    (0.00)      (0.01)   \n",
       "factor(country_name)Mali:year                                        0.00       -0.00    \n",
       "                                                                    (0.00)      (0.01)   \n",
       "factor(country_name)Mauritania:year                                  0.00       -0.00    \n",
       "                                                                    (0.00)      (0.01)   \n",
       "factor(country_name)Mozambique:year                                  0.01        0.00    \n",
       "                                                                    (0.00)      (0.01)   \n",
       "factor(country_name)Namibia:year                                     0.00        0.00    \n",
       "                                                                    (0.01)      (0.01)   \n",
       "factor(country_name)Niger:year                                       0.00       -0.00    \n",
       "                                                                    (0.00)      (0.01)   \n",
       "factor(country_name)Nigeria:year                                     0.00       -0.00    \n",
       "                                                                    (0.00)      (0.01)   \n",
       "factor(country_name)Rwanda:year                                      0.00       -0.00    \n",
       "                                                                    (0.00)      (0.01)   \n",
       "factor(country_name)Senegal:year                                     0.00       -0.00    \n",
       "                                                                    (0.00)      (0.01)   \n",
       "factor(country_name)Sierra Leone:year                               -0.00       -0.01    \n",
       "                                                                    (0.00)      (0.01)   \n",
       "factor(country_name)Somalia:year                                    -0.01                \n",
       "                                                                    (0.01)               \n",
       "factor(country_name)South Africa:year                                0.00       -0.00    \n",
       "                                                                    (0.00)      (0.01)   \n",
       "factor(country_name)Sudan:year                                       0.01                \n",
       "                                                                    (0.00)               \n",
       "factor(country_name)Swaziland:year                                   0.00       -0.00    \n",
       "                                                                    (0.00)      (0.01)   \n",
       "factor(country_name)Tanzania, United Republic of:year                0.00       -0.00    \n",
       "                                                                    (0.00)      (0.01)   \n",
       "factor(country_name)Togo:year                                        0.00       -0.00    \n",
       "                                                                    (0.00)      (0.01)   \n",
       "factor(country_name)Uganda:year                                     -0.00        0.01    \n",
       "                                                                    (0.00)      (0.01)   \n",
       "factor(country_name)Zaire:year                                      -0.00       -0.01    \n",
       "                                                                    (0.00)      (0.01)   \n",
       "factor(country_name)Zambia:year                                      0.00       -0.00    \n",
       "                                                                    (0.00)      (0.01)   \n",
       "factor(country_name)Zimbabwe:year                                    0.00       -0.00    \n",
       "                                                                    (0.00)      (0.01)   \n",
       "tot_100_g                                                                       -0.00    \n",
       "                                                                                (0.02)   \n",
       "-----------------------------------------------------------------------------------------\n",
       "R^2                                                      0.02        0.13        0.16    \n",
       "Adj. R^2                                                 0.02        0.02        0.05    \n",
       "Num. obs.                                              743         743         661       \n",
       "RMSE                                                     0.07        0.07        0.06    \n",
       "=========================================================================================\n",
       "*** p < 0.001, ** p < 0.01, * p < 0.05"
      ]
     },
     "metadata": {},
     "output_type": "display_data"
    }
   ],
   "source": [
    "screenreg(list(fs1, fs3, fs5))"
   ]
  },
  {
   "cell_type": "code",
   "execution_count": 8,
   "metadata": {},
   "outputs": [
    {
     "name": "stdout",
     "output_type": "stream",
     "text": [
      "\n",
      "Rainfall and Economic Growth (First-Stage)\n",
      "===================================================================================\n",
      "                                   Dependent Variable: Economic Growth Rate, t     \n",
      "                              -----------------------------------------------------\n",
      "                                             Ordinary Least Squares                \n",
      "                                     (1)                (2)              (3)       \n",
      "-----------------------------------------------------------------------------------\n",
      "Growth in rainfall, t              0.055***          0.049***          0.053***    \n",
      "                                   (0.016)            (0.017)          (0.018)     \n",
      "                                                                                   \n",
      "Growth in rainfall, t-1            0.034***           0.028**          0.037**     \n",
      "                                   (0.013)            (0.014)          (0.015)     \n",
      "                                                                                   \n",
      "Growth in terms of trade, t+1                                           -0.002     \n",
      "                                                                       (0.023)     \n",
      "                                                                                   \n",
      "-----------------------------------------------------------------------------------\n",
      "Country fixed effects                 no                yes              yes       \n",
      "Country-specific time trends          no                yes              yes       \n",
      "Root mean square error               0.07              0.07              0.06      \n",
      "Observations                         743                743              661       \n",
      "R2                                  0.024              0.133            0.162      \n",
      "===================================================================================\n",
      "Note:                                                   *p<0.1; **p<0.05; ***p<0.01\n",
      "                                Standard errors are clustered at the country level.\n"
     ]
    }
   ],
   "source": [
    "stargazer(fs1, fs3, fs5,\n",
    "          se=list(cclust(fs1), cclust(fs3), cclust(fs5)),\n",
    "          keep=c(\"GPCP_g\", \"GPCP_g_l\", \"tot_100_g\"),\n",
    "          covariate.labels=c(\"Growth in rainfall, $t$\",\n",
    "                             \"Growth in rainfall, $t-1$\",\n",
    "                             \"Growth in terms of trade, $t+1$\"),\n",
    "          add.lines=list(c(\"Country fixed effects\",\n",
    "                           \"no\", \"yes\", \"yes\"),\n",
    "                         c(\"Country-specific time trends\",\n",
    "                           \"no\", \"yes\", \"yes\"),\n",
    "                         c(\"Root mean square error\",\n",
    "                           rmse(fs1), rmse(fs3), rmse(fs5))),\n",
    "          keep.stat=c(\"rsq\", \"n\"),\n",
    "          dep.var.caption=\"Dependent Variable: Economic Growth Rate, $t$\",\n",
    "          dep.var.labels=\"Ordinary Least Squares\",\n",
    "          title=\"Rainfall and Economic Growth (First-Stage)\",\n",
    "          notes=\"Standard errors are clustered at the country level.\",\n",
    "          type=\"text\")"
   ]
  },
  {
   "cell_type": "markdown",
   "metadata": {},
   "source": [
    "Table 3"
   ]
  },
  {
   "cell_type": "code",
   "execution_count": 9,
   "metadata": {},
   "outputs": [],
   "source": [
    "rf1 = lm(any_prio ~ GPCP_g + GPCP_g_l + factor(country_name) +\n",
    "         factor(country_name) * year, data=mss_repdata)"
   ]
  },
  {
   "cell_type": "code",
   "execution_count": 10,
   "metadata": {},
   "outputs": [],
   "source": [
    "rf2 = lm(war_prio ~ GPCP_g + GPCP_g_l + factor(country_name) +\n",
    "         factor(country_name) * year, data=mss_repdata)"
   ]
  },
  {
   "cell_type": "code",
   "execution_count": 11,
   "metadata": {},
   "outputs": [
    {
     "name": "stdout",
     "output_type": "stream",
     "text": [
      "\n",
      "Rainfall and Civil Conflict (Reduced-Form)\n",
      "=================================================================================================\n",
      "                                                     Dependent variable:                         \n",
      "                             --------------------------------------------------------------------\n",
      "                             Civil Conflict >=25 Deaths (OLS) Civil Conflict >=1,000 Deaths (OLS)\n",
      "                                           (1)                                (2)                \n",
      "-------------------------------------------------------------------------------------------------\n",
      "Growth in rainfall, t                     -0.024                           -0.062**              \n",
      "                                         (0.043)                            (0.030)              \n",
      "                                                                                                 \n",
      "Growth in rainfall, t-1                  -0.122**                          -0.069**              \n",
      "                                         (0.052)                            (0.032)              \n",
      "                                                                                                 \n",
      "-------------------------------------------------------------------------------------------------\n",
      "Country fixed effects                      Yes                                Yes                \n",
      "Country-specific time trends               Yes                                Yes                \n",
      "-------------------------------------------------------------------------------------------------\n",
      "Root mean square error                     0.24                               0.2                \n",
      "Observations                               743                                743                \n",
      "R2                                        0.708                              0.699               \n",
      "=================================================================================================\n",
      "Note:                                                                 *p<0.1; **p<0.05; ***p<0.01\n",
      "                                              Standard errors are clustered at the country level.\n"
     ]
    }
   ],
   "source": [
    "stargazer(rf1, rf2,\n",
    "          se=list(cclust(rf1), cclust(rf2)),\n",
    "          keep=c(\"GPCP_g\", \"GPCP_g_l\"),\n",
    "          covariate.labels=c(\"Growth in rainfall, $t$\",\n",
    "                             \"Growth in rainfall, $t-1$\"),\n",
    "          # Omit is broken, see https://stackoverflow.com/q/38355337/1840471\n",
    "          omit=c(\"^(?!.*year).*factor.*$\", \"year\"),\n",
    "          perl=TRUE,\n",
    "          omit.labels=c(\"Country fixed effects\",\n",
    "                        \"Country-specific time trends\"),\n",
    "          add.lines=list(c(\"Root mean square error\",\n",
    "                           rmse(rf1), rmse(rf2))),\n",
    "          keep.stat=c(\"rsq\", \"n\"),\n",
    "#           dep.var.caption=\"Dependent Variable: Economic Growth Rate, $t$\",\n",
    "          dep.var.labels=c(\"Civil Conflict >=25 Deaths (OLS)\",\n",
    "                           \"Civil Conflict >=1,000 Deaths (OLS)\"),\n",
    "          title=\"Rainfall and Civil Conflict (Reduced-Form)\",\n",
    "          notes=\"Standard errors are clustered at the country level.\",\n",
    "          type=\"text\")"
   ]
  },
  {
   "cell_type": "markdown",
   "metadata": {},
   "source": [
    "Column 4 and 6 of Table 4"
   ]
  },
  {
   "cell_type": "code",
   "execution_count": 12,
   "metadata": {},
   "outputs": [],
   "source": [
    "ols = lm(any_prio ~ gdp_g + gdp_g_l + factor(country_name) +\n",
    "         factor(country_name) * year, data=mss_repdata)"
   ]
  },
  {
   "cell_type": "code",
   "execution_count": 29,
   "metadata": {},
   "outputs": [],
   "source": [
    "iv = felm(any_prio ~ 1  | #country_name + country_name * year |  # Ordinary covariates\n",
    "          0 |  # Factors (worked better in first term though)\n",
    "          (gdp_g|gdp_g_l ~ GPCP_g + GPCP_g_l) |  # IV specification\n",
    "          country_name,  # Cluster\n",
    "          data=mss_repdata)"
   ]
  },
  {
   "cell_type": "code",
   "execution_count": 37,
   "metadata": {},
   "outputs": [
    {
     "ename": "ERROR",
     "evalue": "Error in custommap(m, custom.coef.map): None of the coefficient names supplied in custom.coef.map appear to be in your models.\n",
     "output_type": "error",
     "traceback": [
      "Error in custommap(m, custom.coef.map): None of the coefficient names supplied in custom.coef.map appear to be in your models.\nTraceback:\n",
      "1. screenreg(list(iv), custom.coef.map = list(`gdp_g (fit)` = \"Economic growth rate, t\", \n .     gdp_g_l = \"Economic growth rate, t-1\"))",
      "2. custommap(m, custom.coef.map)",
      "3. stop(\"None of the coefficient names supplied in custom.coef.map appear to be in your models.\")"
     ]
    }
   ],
   "source": [
    "screenreg(list(iv),\n",
    "         custom.coef.map=list('gdp_g (fit)' = 'Economic growth rate, t',\n",
    "#                                           'gdp_g (fit)' = 'Economic growth rate, t',\n",
    "                                          'gdp_g_l' = 'Economic growth rate, t-1'))"
   ]
  },
  {
   "cell_type": "code",
   "execution_count": 34,
   "metadata": {},
   "outputs": [
    {
     "data": {
      "text/html": [
       "\n",
       "<!DOCTYPE HTML PUBLIC \"-//W3C//DTD HTML 4.01 Transitional//EN\" \"http://www.w3.org/TR/html4/loose.dtd\">\n",
       "<table cellspacing=\"0\" align=\"center\" style=\"border: none;\">\n",
       "<caption align=\"bottom\" style=\"margin-top:0.3em;\">Statistical models</caption>\n",
       "<tr>\n",
       "<th style=\"text-align: left; border-top: 2px solid black; border-bottom: 1px solid black; padding-right: 12px;\"><b></b></th>\n",
       "<th style=\"text-align: left; border-top: 2px solid black; border-bottom: 1px solid black; padding-right: 12px;\"><b>Model 1</b></th>\n",
       "<th style=\"text-align: left; border-top: 2px solid black; border-bottom: 1px solid black; padding-right: 12px;\"><b>Model 2</b></th>\n",
       "</tr>\n",
       "<tr>\n",
       "<td style=\"padding-right: 12px; border: none;\">Economic growth rate, t-1</td>\n",
       "<td style=\"padding-right: 12px; border: none;\">0.07</td>\n",
       "<td style=\"padding-right: 12px; border: none;\"></td>\n",
       "</tr>\n",
       "<tr>\n",
       "<td style=\"padding-right: 12px; border: none;\"></td>\n",
       "<td style=\"padding-right: 12px; border: none;\">(0.14)</td>\n",
       "<td style=\"padding-right: 12px; border: none;\"></td>\n",
       "</tr>\n",
       "<tr>\n",
       "<td style=\"border-top: 1px solid black;\">R<sup style=\"vertical-align: 0px;\">2</sup></td>\n",
       "<td style=\"border-top: 1px solid black;\">0.71</td>\n",
       "<td style=\"border-top: 1px solid black;\"></td>\n",
       "</tr>\n",
       "<tr>\n",
       "<td style=\"padding-right: 12px; border: none;\">Adj. R<sup style=\"vertical-align: 0px;\">2</sup></td>\n",
       "<td style=\"padding-right: 12px; border: none;\">0.67</td>\n",
       "<td style=\"padding-right: 12px; border: none;\"></td>\n",
       "</tr>\n",
       "<tr>\n",
       "<td style=\"padding-right: 12px; border: none;\">Num. obs.</td>\n",
       "<td style=\"padding-right: 12px; border: none;\">743</td>\n",
       "<td style=\"padding-right: 12px; border: none;\">743</td>\n",
       "</tr>\n",
       "<tr>\n",
       "<td style=\"padding-right: 12px; border: none;\">RMSE</td>\n",
       "<td style=\"padding-right: 12px; border: none;\">0.25</td>\n",
       "<td style=\"padding-right: 12px; border: none;\"></td>\n",
       "</tr>\n",
       "<tr>\n",
       "<td style=\"padding-right: 12px; border: none;\">R<sup style=\"vertical-align: 0px;\">2</sup> (full model)</td>\n",
       "<td style=\"padding-right: 12px; border: none;\"></td>\n",
       "<td style=\"padding-right: 12px; border: none;\">-0.13</td>\n",
       "</tr>\n",
       "<tr>\n",
       "<td style=\"padding-right: 12px; border: none;\">R<sup style=\"vertical-align: 0px;\">2</sup> (proj model)</td>\n",
       "<td style=\"padding-right: 12px; border: none;\"></td>\n",
       "<td style=\"padding-right: 12px; border: none;\">-0.13</td>\n",
       "</tr>\n",
       "<tr>\n",
       "<td style=\"padding-right: 12px; border: none;\">Adj. R<sup style=\"vertical-align: 0px;\">2</sup> (full model)</td>\n",
       "<td style=\"padding-right: 12px; border: none;\"></td>\n",
       "<td style=\"padding-right: 12px; border: none;\">-0.14</td>\n",
       "</tr>\n",
       "<tr>\n",
       "<td style=\"border-bottom: 2px solid black;\">Adj. R<sup style=\"vertical-align: 0px;\">2</sup> (proj model)</td>\n",
       "<td style=\"border-bottom: 2px solid black;\"></td>\n",
       "<td style=\"border-bottom: 2px solid black;\">-0.14</td>\n",
       "</tr>\n",
       "<tr>\n",
       "<td style=\"padding-right: 12px; border: none;\" colspan=\"4\"><span style=\"font-size:0.8em\"><sup style=\"vertical-align: 0px;\">***</sup>p &lt; 0.001, <sup style=\"vertical-align: 0px;\">**</sup>p &lt; 0.01, <sup style=\"vertical-align: 0px;\">*</sup>p &lt; 0.05</span></td>\n",
       "</tr>\n",
       "</table>\n"
      ]
     },
     "metadata": {},
     "output_type": "display_data"
    }
   ],
   "source": [
    "display_html(htmlreg(list(ols, iv),\n",
    "                     custom.coef.map=list('gdp_g(fit)' = 'Economic growth rate, t',\n",
    "#                                           'gdp_g (fit)' = 'Economic growth rate, t',\n",
    "                                          'gdp_g_l' = 'Economic growth rate, t-1')))"
   ]
  },
  {
   "cell_type": "code",
   "execution_count": 16,
   "metadata": {},
   "outputs": [
    {
     "name": "stdout",
     "output_type": "stream",
     "text": [
      "\n",
      "Economic Growth and Civil Conflict\n",
      "=================================================================================\n",
      "                                Dependent Variable: Civil Conflict >=25 Deaths   \n",
      "                             ----------------------------------------------------\n",
      "                                                                                 \n",
      "                                        OLS                       felm           \n",
      "                                        (1)                        (2)           \n",
      "---------------------------------------------------------------------------------\n",
      "Economic growth rate, t                -0.211                                    \n",
      "                                      (0.161)                                    \n",
      "                                                                                 \n",
      "Economic growth rate, t-1              0.067                                     \n",
      "                                      (0.164)                                    \n",
      "                                                                                 \n",
      "`gdp_g(fit)`                                                     -1.132          \n",
      "                                                                 (1.403)         \n",
      "                                                                                 \n",
      "`gdp_g_l(fit)`                                                  -2.546**         \n",
      "                                                                 (1.102)         \n",
      "                                                                                 \n",
      "---------------------------------------------------------------------------------\n",
      "Country fixed effects                   Yes                        No            \n",
      "Country-specific time trends            Yes                        Yes           \n",
      "---------------------------------------------------------------------------------\n",
      "Root mean square error                  0.24                       0.2           \n",
      "Observations                            743                        743           \n",
      "R2                                     0.707                      0.535          \n",
      "=================================================================================\n",
      "Note:                                                 *p<0.1; **p<0.05; ***p<0.01\n",
      "                              Standard errors are clustered at the country level.\n"
     ]
    }
   ],
   "source": [
    "stargazer(ols, iv,\n",
    "          se=list(cclust(ols), cclust(iv)),\n",
    "          keep=c(\"gdp_g\", \"gdp_g_l\"),\n",
    "          covariate.labels=c(\"Economic growth rate, $t$\",\n",
    "                             \"Economic growth rate, $t-1$\"),\n",
    "          # Omit is broken, see https://stackoverflow.com/q/38355337/1840471\n",
    "          omit=c(\"^(?!.*year).*factor.*$\", \"year\"),\n",
    "          perl=TRUE,\n",
    "          omit.labels=c(\"Country fixed effects\",\n",
    "                        \"Country-specific time trends\"),\n",
    "          add.lines=list(c(\"Root mean square error\",\n",
    "                           rmse(rf1), rmse(rf2))),\n",
    "          keep.stat=c(\"rsq\", \"n\"),\n",
    "          dep.var.caption=\"Dependent Variable: Civil Conflict >=25 Deaths\",\n",
    "          dep.var.labels=\"\", #c(\"OLS\", \"IV-2SLS\"),\n",
    "          title=\"Economic Growth and Civil Conflict\",\n",
    "          notes=\"Standard errors are clustered at the country level.\",\n",
    "          type=\"text\")"
   ]
  }
 ],
 "metadata": {
  "kernelspec": {
   "display_name": "R",
   "language": "R",
   "name": "ir"
  },
  "language_info": {
   "codemirror_mode": "r",
   "file_extension": ".r",
   "mimetype": "text/x-r-source",
   "name": "R",
   "pygments_lexer": "r",
   "version": "3.6.1"
  }
 },
 "nbformat": 4,
 "nbformat_minor": 4
}
