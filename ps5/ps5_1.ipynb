{
 "cells": [
  {
   "cell_type": "markdown",
   "metadata": {},
   "source": [
    "# MIT 14.75 Problem Set 5 Question 1\n",
    "\n",
    "## Setup"
   ]
  },
  {
   "cell_type": "code",
   "execution_count": 1,
   "metadata": {},
   "outputs": [
    {
     "name": "stderr",
     "output_type": "stream",
     "text": [
      "Registered S3 method overwritten by 'rvest':\n",
      "  method            from\n",
      "  read_xml.response xml2\n",
      "── Attaching packages ─────────────────────────────────────── tidyverse 1.2.1 ──\n",
      "✔ ggplot2 3.3.0     ✔ purrr   0.3.3\n",
      "✔ tibble  2.1.3     ✔ dplyr   0.8.3\n",
      "✔ tidyr   0.8.3     ✔ stringr 1.4.0\n",
      "✔ readr   1.3.1     ✔ forcats 0.4.0\n",
      "── Conflicts ────────────────────────────────────────── tidyverse_conflicts() ──\n",
      "✖ dplyr::filter() masks stats::filter()\n",
      "✖ dplyr::lag()    masks stats::lag()\n",
      "\n",
      "Please cite as: \n",
      "\n",
      " Hlavac, Marek (2018). stargazer: Well-Formatted Regression and Summary Statistics Tables.\n",
      " R package version 5.2.2. https://CRAN.R-project.org/package=stargazer \n",
      "\n"
     ]
    }
   ],
   "source": [
    "library(tidyverse)\n",
    "library(stargazer)\n",
    "#  library(AER) # Breaking due to conda issue with survival."
   ]
  },
  {
   "cell_type": "code",
   "execution_count": 2,
   "metadata": {},
   "outputs": [],
   "source": [
    "load(\"mss_repdata.RData\")"
   ]
  },
  {
   "cell_type": "markdown",
   "metadata": {},
   "source": [
    "Function for clustered standard errors in `summary()`. See [this post](https://economictheoryblog.com/2018/05/18/cluster-robust-standard-errors-in-stargazer/)"
   ]
  },
  {
   "cell_type": "code",
   "execution_count": 3,
   "metadata": {},
   "outputs": [
    {
     "name": "stderr",
     "output_type": "stream",
     "text": [
      "\n",
      "Attaching package: ‘RCurl’\n",
      "\n",
      "The following object is masked from ‘package:tidyr’:\n",
      "\n",
      "    complete\n",
      "\n"
     ]
    }
   ],
   "source": [
    "# load necessary packages for importing the function\n",
    "library(RCurl)\n",
    " \n",
    "# import the function from repository\n",
    "url_robust <- \"https://raw.githubusercontent.com/IsidoreBeautrelet/economictheoryblog/master/robust_summary.R\"\n",
    "eval(parse(text = getURL(url_robust, ssl.verifypeer = FALSE)),\n",
    "     envir=.GlobalEnv)"
   ]
  },
  {
   "cell_type": "markdown",
   "metadata": {},
   "source": [
    "## (a)\n",
    "\n",
    "* Column 1: Economic growth rate ~ (growth in rainfall, t) + (growth in rainfall, t-1), clustered by country.\n",
    "* Column 3: Column 1 + country fixed effects + country-specific time trends\n",
    "* Column 5: Column 3 + (growth in terms of trade, t)"
   ]
  },
  {
   "cell_type": "code",
   "execution_count": 4,
   "metadata": {},
   "outputs": [],
   "source": [
    "cclust <- function(m) {\n",
    "    return(coef(summary(m, cluster = c(\"country_name\")))[, 2])\n",
    "}\n",
    "\n",
    "rmse <- function(m, digits=2) {\n",
    "    return(round(sqrt(mean(m$residuals^2)), digits))\n",
    "}"
   ]
  },
  {
   "cell_type": "code",
   "execution_count": 5,
   "metadata": {},
   "outputs": [],
   "source": [
    "fs1 = lm(gdp_g ~ GPCP_g + GPCP_g_l, data=mss_repdata)"
   ]
  },
  {
   "cell_type": "code",
   "execution_count": 6,
   "metadata": {},
   "outputs": [],
   "source": [
    "fs3 = lm(gdp_g ~ GPCP_g + GPCP_g_l + factor(country_name) +\n",
    "         factor(country_name) * year, data=mss_repdata)"
   ]
  },
  {
   "cell_type": "code",
   "execution_count": 7,
   "metadata": {},
   "outputs": [],
   "source": [
    "fs5 = lm(gdp_g ~ GPCP_g + GPCP_g_l + factor(country_name) +\n",
    "         factor(country_name) * year + tot_100_g, data=mss_repdata)"
   ]
  },
  {
   "cell_type": "code",
   "execution_count": 8,
   "metadata": {},
   "outputs": [
    {
     "name": "stdout",
     "output_type": "stream",
     "text": [
      "\n",
      "Rainfall and Economic Growth (First-Stage)\n",
      "===================================================================================\n",
      "                                   Dependent Variable: Economic Growth Rate, t     \n",
      "                              -----------------------------------------------------\n",
      "                                             Ordinary Least Squares                \n",
      "                                     (1)                (2)              (3)       \n",
      "-----------------------------------------------------------------------------------\n",
      "Growth in rainfall, t              0.055***          0.049***          0.053***    \n",
      "                                   (0.016)            (0.017)          (0.018)     \n",
      "                                                                                   \n",
      "Growth in rainfall, t-1            0.034***           0.028**          0.037**     \n",
      "                                   (0.013)            (0.014)          (0.015)     \n",
      "                                                                                   \n",
      "Growth in terms of trade, t+1                                           -0.002     \n",
      "                                                                       (0.023)     \n",
      "                                                                                   \n",
      "-----------------------------------------------------------------------------------\n",
      "Country fixed effects                 no                yes              yes       \n",
      "Country-specific time trends          no                yes              yes       \n",
      "Root mean square error               0.07              0.07              0.06      \n",
      "Observations                         743                743              661       \n",
      "R2                                  0.024              0.133            0.162      \n",
      "===================================================================================\n",
      "Note:                                                   *p<0.1; **p<0.05; ***p<0.01\n",
      "                                Standard errors are clustered at the country level.\n"
     ]
    }
   ],
   "source": [
    "stargazer(fs1, fs3, fs5,\n",
    "          se=list(cclust(fs1), cclust(fs3), cclust(fs5)),\n",
    "          keep=c(\"GPCP_g\", \"GPCP_g_l\", \"tot_100_g\"),\n",
    "          covariate.labels=c(\"Growth in rainfall, $t$\",\n",
    "                             \"Growth in rainfall, $t-1$\",\n",
    "                             \"Growth in terms of trade, $t+1$\"),\n",
    "          add.lines=list(c(\"Country fixed effects\",\n",
    "                           \"no\", \"yes\", \"yes\"),\n",
    "                         c(\"Country-specific time trends\",\n",
    "                           \"no\", \"yes\", \"yes\"),\n",
    "                         c(\"Root mean square error\",\n",
    "                           rmse(fs1), rmse(fs3), rmse(fs5))),\n",
    "          keep.stat=c(\"rsq\", \"n\"),\n",
    "          dep.var.caption=\"Dependent Variable: Economic Growth Rate, $t$\",\n",
    "          dep.var.labels=\"Ordinary Least Squares\",\n",
    "          title=\"Rainfall and Economic Growth (First-Stage)\",\n",
    "          notes=\"Standard errors are clustered at the country level.\",\n",
    "          type=\"text\")"
   ]
  },
  {
   "cell_type": "markdown",
   "metadata": {},
   "source": [
    "Table 3"
   ]
  },
  {
   "cell_type": "code",
   "execution_count": 9,
   "metadata": {},
   "outputs": [],
   "source": [
    "rf1 = lm(any_prio ~ GPCP_g + GPCP_g_l + factor(country_name) +\n",
    "         factor(country_name) * year, data=mss_repdata)"
   ]
  },
  {
   "cell_type": "code",
   "execution_count": 10,
   "metadata": {},
   "outputs": [],
   "source": [
    "rf2 = lm(war_prio ~ GPCP_g + GPCP_g_l + factor(country_name) +\n",
    "         factor(country_name) * year, data=mss_repdata)"
   ]
  },
  {
   "cell_type": "code",
   "execution_count": 11,
   "metadata": {},
   "outputs": [
    {
     "name": "stdout",
     "output_type": "stream",
     "text": [
      "\n",
      "Rainfall and Civil Conflict (Reduced-Form)\n",
      "=================================================================================================\n",
      "                                                     Dependent variable:                         \n",
      "                             --------------------------------------------------------------------\n",
      "                             Civil Conflict >=25 Deaths (OLS) Civil Conflict >=1,000 Deaths (OLS)\n",
      "                                           (1)                                (2)                \n",
      "-------------------------------------------------------------------------------------------------\n",
      "Growth in rainfall, t                     -0.024                           -0.062**              \n",
      "                                         (0.043)                            (0.030)              \n",
      "                                                                                                 \n",
      "Growth in rainfall, t-1                  -0.122**                          -0.069**              \n",
      "                                         (0.052)                            (0.032)              \n",
      "                                                                                                 \n",
      "-------------------------------------------------------------------------------------------------\n",
      "Country fixed effects                      Yes                                Yes                \n",
      "Country-specific time trends               Yes                                Yes                \n",
      "-------------------------------------------------------------------------------------------------\n",
      "Root mean square error                     0.24                               0.2                \n",
      "Observations                               743                                743                \n",
      "R2                                        0.708                              0.699               \n",
      "=================================================================================================\n",
      "Note:                                                                 *p<0.1; **p<0.05; ***p<0.01\n",
      "                                              Standard errors are clustered at the country level.\n"
     ]
    }
   ],
   "source": [
    "stargazer(rf1, rf2,\n",
    "          se=list(cclust(rf1), cclust(rf2)),\n",
    "          keep=c(\"GPCP_g\", \"GPCP_g_l\"),\n",
    "          covariate.labels=c(\"Growth in rainfall, $t$\",\n",
    "                             \"Growth in rainfall, $t-1$\"),\n",
    "          # Omit is broken, see https://stackoverflow.com/q/38355337/1840471\n",
    "          omit=c(\"^(?!.*year).*factor.*$\", \"year\"),\n",
    "          perl=TRUE,\n",
    "          omit.labels=c(\"Country fixed effects\",\n",
    "                        \"Country-specific time trends\"),\n",
    "          add.lines=list(c(\"Root mean square error\",\n",
    "                           rmse(rf1), rmse(rf2))),\n",
    "          keep.stat=c(\"rsq\", \"n\"),\n",
    "#           dep.var.caption=\"Dependent Variable: Economic Growth Rate, $t$\",\n",
    "          dep.var.labels=c(\"Civil Conflict >=25 Deaths (OLS)\",\n",
    "                           \"Civil Conflict >=1,000 Deaths (OLS)\"),\n",
    "          title=\"Rainfall and Civil Conflict (Reduced-Form)\",\n",
    "          notes=\"Standard errors are clustered at the country level.\",\n",
    "          type=\"text\")"
   ]
  },
  {
   "cell_type": "markdown",
   "metadata": {},
   "source": [
    "Column 4 and 6 of Table 4"
   ]
  },
  {
   "cell_type": "code",
   "execution_count": 12,
   "metadata": {},
   "outputs": [],
   "source": [
    "ols = lm(any_prio ~ GPCP_g + GPCP_g_l + factor(country_name) +\n",
    "         factor(country_name) * year, data=mss_repdata)"
   ]
  },
  {
   "cell_type": "code",
   "execution_count": 13,
   "metadata": {},
   "outputs": [
    {
     "name": "stdout",
     "output_type": "stream",
     "text": [
      "\n",
      "Economic Growth and Civil Conflict\n",
      "=================================================================================\n",
      "                                Dependent Variable: Civil Conflict >=25 Deaths   \n",
      "                             ----------------------------------------------------\n",
      "                                                     OLS                         \n",
      "                                        (1)                        (2)           \n",
      "---------------------------------------------------------------------------------\n",
      "Growth in rainfall, t                  -0.024                    -0.024          \n",
      "                                      (0.043)                    (0.043)         \n",
      "                                                                                 \n",
      "Growth in rainfall, t-1               -0.122**                  -0.122**         \n",
      "                                      (0.052)                    (0.052)         \n",
      "                                                                                 \n",
      "---------------------------------------------------------------------------------\n",
      "Country fixed effects                   Yes                        Yes           \n",
      "Country-specific time trends            Yes                        Yes           \n",
      "---------------------------------------------------------------------------------\n",
      "Root mean square error                  0.24                       0.2           \n",
      "Observations                            743                        743           \n",
      "R2                                     0.708                      0.708          \n",
      "=================================================================================\n",
      "Note:                                                 *p<0.1; **p<0.05; ***p<0.01\n",
      "                              Standard errors are clustered at the country level.\n"
     ]
    }
   ],
   "source": [
    "stargazer(ols, ols,\n",
    "          se=list(cclust(ols), cclust(ols)),\n",
    "          keep=c(\"GPCP_g\", \"GPCP_g_l\"),\n",
    "          covariate.labels=c(\"Growth in rainfall, $t$\",\n",
    "                             \"Growth in rainfall, $t-1$\"),\n",
    "          # Omit is broken, see https://stackoverflow.com/q/38355337/1840471\n",
    "          omit=c(\"^(?!.*year).*factor.*$\", \"year\"),\n",
    "          perl=TRUE,\n",
    "          omit.labels=c(\"Country fixed effects\",\n",
    "                        \"Country-specific time trends\"),\n",
    "          add.lines=list(c(\"Root mean square error\",\n",
    "                           rmse(rf1), rmse(rf2))),\n",
    "          keep.stat=c(\"rsq\", \"n\"),\n",
    "          dep.var.caption=\"Dependent Variable: Civil Conflict >=25 Deaths\",\n",
    "          dep.var.labels=c(\"OLS\", \"IV-2SLS\"),\n",
    "          title=\"Economic Growth and Civil Conflict\",\n",
    "          notes=\"Standard errors are clustered at the country level.\",\n",
    "          type=\"text\")"
   ]
  }
 ],
 "metadata": {
  "kernelspec": {
   "display_name": "R",
   "language": "R",
   "name": "ir"
  },
  "language_info": {
   "codemirror_mode": "r",
   "file_extension": ".r",
   "mimetype": "text/x-r-source",
   "name": "R",
   "pygments_lexer": "r",
   "version": "3.6.1"
  }
 },
 "nbformat": 4,
 "nbformat_minor": 4
}
