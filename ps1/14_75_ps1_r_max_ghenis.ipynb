{
 "cells": [
  {
   "cell_type": "markdown",
   "metadata": {},
   "source": [
    "# 14.75 problem set 1 - Max Ghenis\n",
    "\n",
    "When written answers are required, they are provided below the question in **bold.**"
   ]
  },
  {
   "cell_type": "code",
   "execution_count": 28,
   "metadata": {},
   "outputs": [],
   "source": [
    "library(dplyr, quietly=T)\n",
    "library(ggplot2, quietly=T)\n",
    "library(AER, quietly=T)"
   ]
  },
  {
   "cell_type": "markdown",
   "metadata": {},
   "source": [
    "## Question 1\n",
    "\n",
    "Create data frame with 100 observations with\n",
    "\n",
    "a) A variable `t` running from `1` to `100`\n",
    "\n",
    "b) `alpha` which has value `3` for all 100 observations\n",
    "\n",
    "c) Another variable `e_t`, a normal variable with mean 0 and standard deviation 1\n",
    "\n",
    "d) `x_t` a random uniform variable over [0, 1]"
   ]
  },
  {
   "cell_type": "code",
   "execution_count": 2,
   "metadata": {},
   "outputs": [],
   "source": [
    "SIZE = 100\n",
    "set.seed(0)"
   ]
  },
  {
   "cell_type": "code",
   "execution_count": 3,
   "metadata": {},
   "outputs": [],
   "source": [
    "df = data.frame(t=1:SIZE,\n",
    "                alpha=3,\n",
    "                e_t=rnorm(100),\n",
    "                x_t=runif(100))"
   ]
  },
  {
   "cell_type": "markdown",
   "metadata": {},
   "source": [
    "e) An outcome variable `y_t` where `beta=2`, `y_t` = `alpha + beta * x_t + e_t`."
   ]
  },
  {
   "cell_type": "code",
   "execution_count": 4,
   "metadata": {},
   "outputs": [],
   "source": [
    "BETA = 2\n",
    "df$y_t = df$alpha + BETA * df$x_t + df$e_t"
   ]
  },
  {
   "cell_type": "markdown",
   "metadata": {},
   "source": [
    "f) Estimate `beta_hat`\n",
    "\n",
    "**1.83**"
   ]
  },
  {
   "cell_type": "code",
   "execution_count": 5,
   "metadata": {},
   "outputs": [
    {
     "data": {
      "text/plain": [
       "\n",
       "Call:\n",
       "lm(formula = y_t ~ x_t, data = df)\n",
       "\n",
       "Residuals:\n",
       "     Min       1Q   Median       3Q      Max \n",
       "-2.23533 -0.60614 -0.06678  0.56760  2.50565 \n",
       "\n",
       "Coefficients:\n",
       "            Estimate Std. Error t value Pr(>|t|)    \n",
       "(Intercept)   3.0983     0.1656  18.712  < 2e-16 ***\n",
       "x_t           1.8257     0.3223   5.665 1.48e-07 ***\n",
       "---\n",
       "Signif. codes:  0 ‘***’ 0.001 ‘**’ 0.01 ‘*’ 0.05 ‘.’ 0.1 ‘ ’ 1\n",
       "\n",
       "Residual standard error: 0.8858 on 98 degrees of freedom\n",
       "Multiple R-squared:  0.2467,\tAdjusted R-squared:  0.239 \n",
       "F-statistic: 32.09 on 1 and 98 DF,  p-value: 1.476e-07\n"
      ]
     },
     "metadata": {},
     "output_type": "display_data"
    }
   ],
   "source": [
    "m = lm(y_t ~ x_t, data=df)\n",
    "summary(m)"
   ]
  },
  {
   "cell_type": "markdown",
   "metadata": {},
   "source": [
    "f) i. Test H0: `beta = 0`\n",
    "\n",
    "**p-value of 1.48e-7 < 0.05, so we can reject `beta=0`.**\n",
    "\n",
    "f) ii. Test H0: `beta = 1.2`\n",
    "\n",
    "**95% CI [1.19, 2.47] includes 1.2, so we cannot reject `beta=1.2`.**"
   ]
  },
  {
   "cell_type": "code",
   "execution_count": 6,
   "metadata": {},
   "outputs": [
    {
     "data": {
      "text/html": [
       "<table>\n",
       "<thead><tr><th></th><th scope=col>2.5 %</th><th scope=col>97.5 %</th></tr></thead>\n",
       "<tbody>\n",
       "\t<tr><th scope=row>(Intercept)</th><td>2.769741</td><td>3.426900</td></tr>\n",
       "\t<tr><th scope=row>x_t</th><td>1.186110</td><td>2.465289</td></tr>\n",
       "</tbody>\n",
       "</table>\n"
      ],
      "text/latex": [
       "\\begin{tabular}{r|ll}\n",
       "  & 2.5 \\% & 97.5 \\%\\\\\n",
       "\\hline\n",
       "\t(Intercept) & 2.769741 & 3.426900\\\\\n",
       "\tx\\_t & 1.186110 & 2.465289\\\\\n",
       "\\end{tabular}\n"
      ],
      "text/markdown": [
       "\n",
       "| <!--/--> | 2.5 % | 97.5 % |\n",
       "|---|---|---|\n",
       "| (Intercept) | 2.769741 | 3.426900 |\n",
       "| x_t | 1.186110 | 2.465289 |\n",
       "\n"
      ],
      "text/plain": [
       "            2.5 %    97.5 %  \n",
       "(Intercept) 2.769741 3.426900\n",
       "x_t         1.186110 2.465289"
      ]
     },
     "metadata": {},
     "output_type": "display_data"
    }
   ],
   "source": [
    "confint(m)"
   ]
  },
  {
   "cell_type": "markdown",
   "metadata": {},
   "source": [
    "g) Create `v_t` as a random normal variable with mean 0. Generate `q_t` as `q_t = x_t + 2*x_t^3 + v_t`."
   ]
  },
  {
   "cell_type": "code",
   "execution_count": 7,
   "metadata": {},
   "outputs": [],
   "source": [
    "df$v_t = rnorm(SIZE)"
   ]
  },
  {
   "cell_type": "code",
   "execution_count": 8,
   "metadata": {},
   "outputs": [],
   "source": [
    "df$q_t = df$x_t + 2 * df$x_t ^ 3 + df$v_t"
   ]
  },
  {
   "cell_type": "markdown",
   "metadata": {},
   "source": [
    "What is the correlation between q and x?\n",
    "\n",
    "**0.64**"
   ]
  },
  {
   "cell_type": "code",
   "execution_count": 9,
   "metadata": {},
   "outputs": [
    {
     "data": {
      "text/html": [
       "0.64208680768211"
      ],
      "text/latex": [
       "0.64208680768211"
      ],
      "text/markdown": [
       "0.64208680768211"
      ],
      "text/plain": [
       "[1] 0.6420868"
      ]
     },
     "metadata": {},
     "output_type": "display_data"
    }
   ],
   "source": [
    "cor(df$q_t, df$x_t)"
   ]
  },
  {
   "cell_type": "markdown",
   "metadata": {},
   "source": [
    "Generate outcome variable `z_t` where `beta=2`, `gamma=3`, `z_t = alpha + beta * x_t + gamma * q_t + e_t`."
   ]
  },
  {
   "cell_type": "code",
   "execution_count": 10,
   "metadata": {},
   "outputs": [],
   "source": [
    "GAMMA = 3"
   ]
  },
  {
   "cell_type": "code",
   "execution_count": 11,
   "metadata": {},
   "outputs": [],
   "source": [
    "df$z_t = df$alpha + BETA * df$x_t + GAMMA * df$q_t + df$e_t"
   ]
  },
  {
   "cell_type": "markdown",
   "metadata": {},
   "source": [
    "Estimate `beta_hat` from (misspecified) model:\n",
    "`z_t = alpha + beta * x_t + u_t`\n",
    "\n",
    "**11.4**"
   ]
  },
  {
   "cell_type": "code",
   "execution_count": 12,
   "metadata": {},
   "outputs": [
    {
     "data": {
      "text/plain": [
       "\n",
       "Call:\n",
       "lm(formula = z_t ~ x_t, data = df)\n",
       "\n",
       "Residuals:\n",
       "    Min      1Q  Median      3Q     Max \n",
       "-8.6316 -2.4583  0.2057  2.1837  7.5694 \n",
       "\n",
       "Coefficients:\n",
       "            Estimate Std. Error t value Pr(>|t|)    \n",
       "(Intercept)   1.6213     0.6186   2.621   0.0102 *  \n",
       "x_t          11.4267     1.2041   9.490 1.55e-15 ***\n",
       "---\n",
       "Signif. codes:  0 ‘***’ 0.001 ‘**’ 0.01 ‘*’ 0.05 ‘.’ 0.1 ‘ ’ 1\n",
       "\n",
       "Residual standard error: 3.309 on 98 degrees of freedom\n",
       "Multiple R-squared:  0.4789,\tAdjusted R-squared:  0.4736 \n",
       "F-statistic: 90.06 on 1 and 98 DF,  p-value: 1.548e-15\n"
      ]
     },
     "metadata": {},
     "output_type": "display_data"
    }
   ],
   "source": [
    "m = lm(z_t ~ x_t, data=df)\n",
    "summary(m)"
   ]
  },
  {
   "cell_type": "markdown",
   "metadata": {},
   "source": [
    "Test H0: `beta = 2`.\n",
    "\n",
    "**Estimated `beta` = 11.43. 95% CI = [9.04, 13.82] so we can reject `beta=2` under this misspecified model.**"
   ]
  },
  {
   "cell_type": "code",
   "execution_count": 13,
   "metadata": {},
   "outputs": [
    {
     "data": {
      "text/html": [
       "<table>\n",
       "<thead><tr><th></th><th scope=col>2.5 %</th><th scope=col>97.5 %</th></tr></thead>\n",
       "<tbody>\n",
       "\t<tr><th scope=row>(Intercept)</th><td>0.393792 </td><td> 2.848848</td></tr>\n",
       "\t<tr><th scope=row>x_t</th><td>9.037274 </td><td>13.816108</td></tr>\n",
       "</tbody>\n",
       "</table>\n"
      ],
      "text/latex": [
       "\\begin{tabular}{r|ll}\n",
       "  & 2.5 \\% & 97.5 \\%\\\\\n",
       "\\hline\n",
       "\t(Intercept) & 0.393792  &  2.848848\\\\\n",
       "\tx\\_t & 9.037274  & 13.816108\\\\\n",
       "\\end{tabular}\n"
      ],
      "text/markdown": [
       "\n",
       "| <!--/--> | 2.5 % | 97.5 % |\n",
       "|---|---|---|\n",
       "| (Intercept) | 0.393792  |  2.848848 |\n",
       "| x_t | 9.037274  | 13.816108 |\n",
       "\n"
      ],
      "text/plain": [
       "            2.5 %    97.5 %   \n",
       "(Intercept) 0.393792  2.848848\n",
       "x_t         9.037274 13.816108"
      ]
     },
     "metadata": {},
     "output_type": "display_data"
    }
   ],
   "source": [
    "confint(m)"
   ]
  },
  {
   "cell_type": "markdown",
   "metadata": {},
   "source": [
    "Discuss.\n",
    "\n",
    "**This is the result of omitted variable bias: `z_t` is being affected by `q_t` which is correlated with `x_t` in a nonlinear way that `x_t` can't soak up alone (if it were linear we'd expect `beta_hat = beta + gamma = 5`, rather than 11.43).**"
   ]
  },
  {
   "cell_type": "markdown",
   "metadata": {},
   "source": [
    "## Question 2\n",
    "\n",
    "Use the `AssassinationsData.RData` dataset."
   ]
  },
  {
   "cell_type": "code",
   "execution_count": 14,
   "metadata": {},
   "outputs": [],
   "source": [
    "load(\"AssassinationsData.RData\")"
   ]
  },
  {
   "cell_type": "markdown",
   "metadata": {},
   "source": [
    "(a) Regress whether the institution changed from 1 year before the attempt to 1 year\n",
    "after the attempt [`absnpolity2dummy11`] on whether or not the attempt was successful\n",
    "[`success`]. As in the original paper, make sure this is conditional on there being a “serious attempt” [`seriousattempt`]."
   ]
  },
  {
   "cell_type": "code",
   "execution_count": 19,
   "metadata": {},
   "outputs": [],
   "source": [
    "serious = AssassinationsData[AssassinationsData$seriousattempt == 1,]"
   ]
  },
  {
   "cell_type": "code",
   "execution_count": 25,
   "metadata": {},
   "outputs": [
    {
     "data": {
      "text/plain": [
       "\n",
       "Call:\n",
       "lm(formula = absnpolity2dummy11 ~ success, data = serious, na.action = na.omit)\n",
       "\n",
       "Residuals:\n",
       "     Min       1Q   Median       3Q      Max \n",
       "-0.15254 -0.04348 -0.04348 -0.04348  0.95652 \n",
       "\n",
       "Coefficients:\n",
       "            Estimate Std. Error t value Pr(>|t|)   \n",
       "(Intercept)  0.04348    0.02020   2.152  0.03247 * \n",
       "success      0.10906    0.03901   2.796  0.00564 **\n",
       "---\n",
       "Signif. codes:  0 ‘***’ 0.001 ‘**’ 0.01 ‘*’ 0.05 ‘.’ 0.1 ‘ ’ 1\n",
       "\n",
       "Residual standard error: 0.2563 on 218 degrees of freedom\n",
       "  (12 observations deleted due to missingness)\n",
       "Multiple R-squared:  0.03462,\tAdjusted R-squared:  0.03019 \n",
       "F-statistic: 7.817 on 1 and 218 DF,  p-value: 0.005637\n"
      ]
     },
     "metadata": {},
     "output_type": "display_data"
    }
   ],
   "source": [
    "m = lm(absnpolity2dummy11 ~ success, data=serious, na.action=na.omit)\n",
    "summary(m)"
   ]
  },
  {
   "cell_type": "markdown",
   "metadata": {},
   "source": [
    "i. Interpret βb.\n",
    "\n",
    "**When an assassination is seriously attempted, successes are associated with an additional 10.9 percent chance that institutions will change from the year before the attempt to the year after.**\n",
    "\n",
    "ii. What assumptions do we need to interpret this as the expected difference in outcomes between when the attempt succeeds and when it fails?\n",
    "\n",
    "**answer**\n",
    "\n",
    "iii. Why might these assumptions fail?\n",
    "\n",
    "**answer**\n",
    "\n",
    "iv. Test the hypothesis that β = 0 at the 5% level. Do you reject or fail to reject the\n",
    "null?\n",
    "\n",
    "**The p-value associated with `success` is 0.00564 < 0.05, so we can reject the null that B=0.**"
   ]
  },
  {
   "cell_type": "markdown",
   "metadata": {},
   "source": [
    "(b) Control for fixed effects of the type of weapon used [weapondum2, weapondum3, ...] in\n",
    "the specification from (a)."
   ]
  },
  {
   "cell_type": "code",
   "execution_count": null,
   "metadata": {},
   "outputs": [],
   "source": [
    "# Regress with controls"
   ]
  },
  {
   "cell_type": "markdown",
   "metadata": {},
   "source": [
    "i. Why would you want to include these controls?\n",
    "\n",
    "**Answer**\n",
    "\n",
    "ii. Does your interpretation of βb change? If so, how so?\n",
    "\n",
    "**Answer**\n",
    "\n",
    "iii. Under what assumptions can we interpret βb as the expected difference in outcomes\n",
    "between when the attempt succeeds and when it fails?\n",
    "\n",
    "**Answer**\n",
    "\n",
    "iv. Test the hypothesis that β = 0.1 at the 5% level. Do you reject or fail to reject the\n",
    "null?\n",
    "\n",
    "**Answer**"
   ]
  },
  {
   "cell_type": "markdown",
   "metadata": {},
   "source": [
    "## Question 3: Instrumental Variables\n",
    "\n",
    "Use the AJRData.RData dataset."
   ]
  },
  {
   "cell_type": "code",
   "execution_count": 27,
   "metadata": {},
   "outputs": [],
   "source": [
    "load('AJRData.RData')"
   ]
  },
  {
   "cell_type": "markdown",
   "metadata": {},
   "source": [
    "(a) Regress the log GDP per capita in 1995 [logpgp95] on the average protection against\n",
    "expropriation risk [avexpr]. In this and other problems, restrict the sample to that in\n",
    "the paper [baseco should equal 1].\n",
    "R Tip: For plotting, consider the package ggplot2."
   ]
  },
  {
   "cell_type": "code",
   "execution_count": 30,
   "metadata": {},
   "outputs": [],
   "source": [
    "ajr = AJRData[AJRData$baseco == 1, ]"
   ]
  },
  {
   "cell_type": "code",
   "execution_count": 31,
   "metadata": {},
   "outputs": [
    {
     "data": {
      "text/plain": [
       "\n",
       "Call:\n",
       "lm(formula = logpgp95 ~ avexpr, data = ajr)\n",
       "\n",
       "Residuals:\n",
       "    Min      1Q  Median      3Q     Max \n",
       "-1.8715 -0.4644  0.1683  0.4610  1.1413 \n",
       "\n",
       "Coefficients:\n",
       "            Estimate Std. Error t value Pr(>|t|)    \n",
       "(Intercept)  4.66038    0.40851  11.408  < 2e-16 ***\n",
       "avexpr       0.52211    0.06119   8.533 4.72e-12 ***\n",
       "---\n",
       "Signif. codes:  0 ‘***’ 0.001 ‘**’ 0.01 ‘*’ 0.05 ‘.’ 0.1 ‘ ’ 1\n",
       "\n",
       "Residual standard error: 0.7132 on 62 degrees of freedom\n",
       "  (99 observations deleted due to missingness)\n",
       "Multiple R-squared:  0.5401,\tAdjusted R-squared:  0.5327 \n",
       "F-statistic: 72.82 on 1 and 62 DF,  p-value: 4.724e-12\n"
      ]
     },
     "metadata": {},
     "output_type": "display_data"
    }
   ],
   "source": [
    "m = lm(logpgp95 ~ avexpr, data=ajr)\n",
    "summary(m)"
   ]
  },
  {
   "cell_type": "markdown",
   "metadata": {},
   "source": [
    "i. Interpret βols.\n",
    "\n",
    "**answer**\n",
    "\n",
    "ii. Is your interpretation causal? Why or why not?\n",
    "\n",
    "**answer**\n",
    "\n",
    "iii. Plot log GDP per capita in 95 against avexpr."
   ]
  },
  {
   "cell_type": "code",
   "execution_count": null,
   "metadata": {},
   "outputs": [],
   "source": [
    "# Plot"
   ]
  },
  {
   "cell_type": "markdown",
   "metadata": {},
   "source": [
    "(b) Regress the average protection against expropriation risk on settler mortality [logem4].\n",
    "Call this `pi_hat`."
   ]
  },
  {
   "cell_type": "code",
   "execution_count": 32,
   "metadata": {},
   "outputs": [
    {
     "data": {
      "text/plain": [
       "\n",
       "Call:\n",
       "lm(formula = logem4 ~ avexpr, data = ajr)\n",
       "\n",
       "Residuals:\n",
       "    Min      1Q  Median      3Q     Max \n",
       "-1.7613 -0.7403 -0.0394  0.2941  3.4182 \n",
       "\n",
       "Coefficients:\n",
       "            Estimate Std. Error t value Pr(>|t|)    \n",
       "(Intercept)  7.55772    0.62049   12.18  < 2e-16 ***\n",
       "avexpr      -0.44519    0.09294   -4.79 1.08e-05 ***\n",
       "---\n",
       "Signif. codes:  0 ‘***’ 0.001 ‘**’ 0.01 ‘*’ 0.05 ‘.’ 0.1 ‘ ’ 1\n",
       "\n",
       "Residual standard error: 1.083 on 62 degrees of freedom\n",
       "  (99 observations deleted due to missingness)\n",
       "Multiple R-squared:  0.2701,\tAdjusted R-squared:  0.2584 \n",
       "F-statistic: 22.95 on 1 and 62 DF,  p-value: 1.077e-05\n"
      ]
     },
     "metadata": {},
     "output_type": "display_data"
    }
   ],
   "source": [
    "m = lm(logem4 ~ avexpr, data=ajr)\n",
    "summary(m)"
   ]
  },
  {
   "cell_type": "code",
   "execution_count": 40,
   "metadata": {},
   "outputs": [
    {
     "data": {
      "text/html": [
       "<strong>avexpr:</strong> -0.44518964650917"
      ],
      "text/latex": [
       "\\textbf{avexpr:} -0.44518964650917"
      ],
      "text/markdown": [
       "**avexpr:** -0.44518964650917"
      ],
      "text/plain": [
       "    avexpr \n",
       "-0.4451896 "
      ]
     },
     "metadata": {},
     "output_type": "display_data"
    }
   ],
   "source": [
    "pi_hat = coef(m)['avexpr']\n",
    "pi_hat"
   ]
  },
  {
   "cell_type": "markdown",
   "metadata": {},
   "source": [
    "i. Plot avexpr against settler mortality."
   ]
  },
  {
   "cell_type": "code",
   "execution_count": null,
   "metadata": {},
   "outputs": [],
   "source": [
    "# Plot"
   ]
  },
  {
   "cell_type": "markdown",
   "metadata": {},
   "source": [
    "ii. Interpret the relationship.\n",
    "(c) Regress the log GDP per capita in 1995 on settler mortality. Call this `gamma_hat`."
   ]
  },
  {
   "cell_type": "code",
   "execution_count": 41,
   "metadata": {},
   "outputs": [
    {
     "data": {
      "text/plain": [
       "\n",
       "Call:\n",
       "lm(formula = logpgp95 ~ logem4, data = ajr)\n",
       "\n",
       "Residuals:\n",
       "    Min      1Q  Median      3Q     Max \n",
       "-2.7545 -0.5386  0.1412  0.4607  1.4059 \n",
       "\n",
       "Coefficients:\n",
       "            Estimate Std. Error t value Pr(>|t|)    \n",
       "(Intercept) 10.73057    0.36718  29.224  < 2e-16 ***\n",
       "logem4      -0.57297    0.07616  -7.523 2.66e-10 ***\n",
       "---\n",
       "Signif. codes:  0 ‘***’ 0.001 ‘**’ 0.01 ‘*’ 0.05 ‘.’ 0.1 ‘ ’ 1\n",
       "\n",
       "Residual standard error: 0.7604 on 62 degrees of freedom\n",
       "  (99 observations deleted due to missingness)\n",
       "Multiple R-squared:  0.4772,\tAdjusted R-squared:  0.4688 \n",
       "F-statistic:  56.6 on 1 and 62 DF,  p-value: 2.659e-10\n"
      ]
     },
     "metadata": {},
     "output_type": "display_data"
    }
   ],
   "source": [
    "m = lm(logpgp95 ~ logem4, data=ajr)\n",
    "summary(m)"
   ]
  },
  {
   "cell_type": "code",
   "execution_count": 42,
   "metadata": {},
   "outputs": [
    {
     "data": {
      "text/html": [
       "<strong>logem4:</strong> -0.572968191734175"
      ],
      "text/latex": [
       "\\textbf{logem4:} -0.572968191734175"
      ],
      "text/markdown": [
       "**logem4:** -0.572968191734175"
      ],
      "text/plain": [
       "    logem4 \n",
       "-0.5729682 "
      ]
     },
     "metadata": {},
     "output_type": "display_data"
    }
   ],
   "source": [
    "gamma_hat = coef(m)['logem4']\n",
    "gamma_hat"
   ]
  },
  {
   "cell_type": "markdown",
   "metadata": {},
   "source": [
    "i. Plot the relationship."
   ]
  },
  {
   "cell_type": "code",
   "execution_count": null,
   "metadata": {},
   "outputs": [],
   "source": [
    "# Plot"
   ]
  },
  {
   "cell_type": "markdown",
   "metadata": {},
   "source": [
    "ii. Compute `gamma_hat/pi_hat`."
   ]
  },
  {
   "cell_type": "code",
   "execution_count": 43,
   "metadata": {},
   "outputs": [
    {
     "data": {
      "text/html": [
       "<strong>logem4:</strong> 1.28702047818709"
      ],
      "text/latex": [
       "\\textbf{logem4:} 1.28702047818709"
      ],
      "text/markdown": [
       "**logem4:** 1.28702047818709"
      ],
      "text/plain": [
       " logem4 \n",
       "1.28702 "
      ]
     },
     "metadata": {},
     "output_type": "display_data"
    }
   ],
   "source": [
    "gamma_hat / pi_hat"
   ]
  },
  {
   "cell_type": "markdown",
   "metadata": {},
   "source": [
    "(d) Compute a 2SLS regression of log GDP per capita in 1995 on avexpr, using settler\n",
    "mortality as an instrumental variable.\n",
    "R Tip: For IV, try the “ivreg” command in the “AER” package."
   ]
  },
  {
   "cell_type": "code",
   "execution_count": null,
   "metadata": {},
   "outputs": [],
   "source": [
    "# Regress"
   ]
  },
  {
   "cell_type": "markdown",
   "metadata": {},
   "source": [
    "i. Interpret βb2sls.\n",
    "\n",
    "**answer**\n",
    "\n",
    "ii. Compare βb2sls to βbols. Are they similar or different? Why do you think this is the\n",
    "case?\n",
    "\n",
    "**answer**\n",
    "\n",
    "iii. Under what assumption can you interpret each of these causally.\n",
    "\n",
    "**answer**\n",
    "\n",
    "iv. Compare βb2sls to bγ/bπ. Explain, mathematically, the relationship between βb2sls, πb, and γb.\n",
    "\n",
    "**answer**"
   ]
  }
 ],
 "metadata": {
  "kernelspec": {
   "display_name": "R",
   "language": "R",
   "name": "ir"
  },
  "language_info": {
   "codemirror_mode": "r",
   "file_extension": ".r",
   "mimetype": "text/x-r-source",
   "name": "R",
   "pygments_lexer": "r",
   "version": "3.6.1"
  }
 },
 "nbformat": 4,
 "nbformat_minor": 2
}
