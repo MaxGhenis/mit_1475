{
 "cells": [
  {
   "cell_type": "markdown",
   "metadata": {},
   "source": [
    "# 14.75 problem set 1 - Max Ghenis\n",
    "\n",
    "When written answers are required, they are provided below the question in **bold.**"
   ]
  },
  {
   "cell_type": "code",
   "execution_count": 1,
   "metadata": {},
   "outputs": [],
   "source": [
    "suppressMessages({\n",
    "    library(dplyr)\n",
    "    library(ggplot2)\n",
    "    library(AER)\n",
    "    library(magrittr)\n",
    "    })"
   ]
  },
  {
   "cell_type": "markdown",
   "metadata": {},
   "source": [
    "## Question 1\n",
    "\n",
    "Create data frame with 100 observations with\n",
    "\n",
    "a) A variable `t` running from `1` to `100`\n",
    "\n",
    "b) `alpha` which has value `3` for all 100 observations\n",
    "\n",
    "c) Another variable `e_t`, a normal variable with mean 0 and standard deviation 1\n",
    "\n",
    "d) `x_t` a random uniform variable over [0, 1]"
   ]
  },
  {
   "cell_type": "code",
   "execution_count": 2,
   "metadata": {},
   "outputs": [],
   "source": [
    "SIZE = 100\n",
    "set.seed(0)\n",
    "\n",
    "df = data.frame(t=1:SIZE,\n",
    "                alpha=3,\n",
    "                e_t=rnorm(100),\n",
    "                x_t=runif(100))"
   ]
  },
  {
   "cell_type": "markdown",
   "metadata": {},
   "source": [
    "e) An outcome variable `y_t` where `beta=2`, `y_t` = `alpha + beta * x_t + e_t`."
   ]
  },
  {
   "cell_type": "code",
   "execution_count": 3,
   "metadata": {},
   "outputs": [],
   "source": [
    "BETA = 2\n",
    "\n",
    "df = mutate(df, y_t = alpha + BETA * x_t + e_t)"
   ]
  },
  {
   "cell_type": "markdown",
   "metadata": {},
   "source": [
    "f) Estimate `beta_hat`\n",
    "\n",
    "**1.83**"
   ]
  },
  {
   "cell_type": "code",
   "execution_count": 4,
   "metadata": {},
   "outputs": [
    {
     "data": {
      "text/plain": [
       "\n",
       "Call:\n",
       "lm(formula = y_t ~ x_t, data = df)\n",
       "\n",
       "Residuals:\n",
       "     Min       1Q   Median       3Q      Max \n",
       "-2.23533 -0.60614 -0.06678  0.56760  2.50565 \n",
       "\n",
       "Coefficients:\n",
       "            Estimate Std. Error t value Pr(>|t|)    \n",
       "(Intercept)   3.0983     0.1656  18.712  < 2e-16 ***\n",
       "x_t           1.8257     0.3223   5.665 1.48e-07 ***\n",
       "---\n",
       "Signif. codes:  0 ‘***’ 0.001 ‘**’ 0.01 ‘*’ 0.05 ‘.’ 0.1 ‘ ’ 1\n",
       "\n",
       "Residual standard error: 0.8858 on 98 degrees of freedom\n",
       "Multiple R-squared:  0.2467,\tAdjusted R-squared:  0.239 \n",
       "F-statistic: 32.09 on 1 and 98 DF,  p-value: 1.476e-07\n"
      ]
     },
     "metadata": {},
     "output_type": "display_data"
    }
   ],
   "source": [
    "m = lm(y_t ~ x_t, data=df)\n",
    "summary(m)"
   ]
  },
  {
   "cell_type": "markdown",
   "metadata": {},
   "source": [
    "f) i. Test H0: `beta = 0`\n",
    "\n",
    "**p-value of 1.48e-7 < 0.05, so we can reject `beta=0`.**\n",
    "\n",
    "f) ii. Test H0: `beta = 1.2`\n",
    "\n",
    "**95% CI [1.19, 2.47] includes 1.2, so we cannot reject `beta=1.2`.**"
   ]
  },
  {
   "cell_type": "code",
   "execution_count": 5,
   "metadata": {},
   "outputs": [
    {
     "data": {
      "text/html": [
       "<table>\n",
       "<thead><tr><th></th><th scope=col>2.5 %</th><th scope=col>97.5 %</th></tr></thead>\n",
       "<tbody>\n",
       "\t<tr><th scope=row>(Intercept)</th><td>2.769741</td><td>3.426900</td></tr>\n",
       "\t<tr><th scope=row>x_t</th><td>1.186110</td><td>2.465289</td></tr>\n",
       "</tbody>\n",
       "</table>\n"
      ],
      "text/latex": [
       "\\begin{tabular}{r|ll}\n",
       "  & 2.5 \\% & 97.5 \\%\\\\\n",
       "\\hline\n",
       "\t(Intercept) & 2.769741 & 3.426900\\\\\n",
       "\tx\\_t & 1.186110 & 2.465289\\\\\n",
       "\\end{tabular}\n"
      ],
      "text/markdown": [
       "\n",
       "| <!--/--> | 2.5 % | 97.5 % |\n",
       "|---|---|---|\n",
       "| (Intercept) | 2.769741 | 3.426900 |\n",
       "| x_t | 1.186110 | 2.465289 |\n",
       "\n"
      ],
      "text/plain": [
       "            2.5 %    97.5 %  \n",
       "(Intercept) 2.769741 3.426900\n",
       "x_t         1.186110 2.465289"
      ]
     },
     "metadata": {},
     "output_type": "display_data"
    }
   ],
   "source": [
    "confint(m)"
   ]
  },
  {
   "cell_type": "markdown",
   "metadata": {},
   "source": [
    "g) Create `v_t` as a random normal variable with mean 0. Generate `q_t` as `q_t = x_t + 2*x_t^3 + v_t`."
   ]
  },
  {
   "cell_type": "code",
   "execution_count": 6,
   "metadata": {},
   "outputs": [],
   "source": [
    "df %<>% mutate(v_t = rnorm(SIZE),\n",
    "               q_t = x_t + 2 * x_t ^ 3 + v_t)"
   ]
  },
  {
   "cell_type": "markdown",
   "metadata": {},
   "source": [
    "What is the correlation between q and x?\n",
    "\n",
    "**0.64**"
   ]
  },
  {
   "cell_type": "code",
   "execution_count": 7,
   "metadata": {},
   "outputs": [
    {
     "data": {
      "text/html": [
       "0.64208680768211"
      ],
      "text/latex": [
       "0.64208680768211"
      ],
      "text/markdown": [
       "0.64208680768211"
      ],
      "text/plain": [
       "[1] 0.6420868"
      ]
     },
     "metadata": {},
     "output_type": "display_data"
    }
   ],
   "source": [
    "cor(df$q_t, df$x_t)"
   ]
  },
  {
   "cell_type": "markdown",
   "metadata": {},
   "source": [
    "Generate outcome variable `z_t` where `beta=2`, `gamma=3`, `z_t = alpha + beta * x_t + gamma * q_t + e_t`."
   ]
  },
  {
   "cell_type": "code",
   "execution_count": 8,
   "metadata": {},
   "outputs": [],
   "source": [
    "GAMMA = 3\n",
    "\n",
    "df %<>% mutate(z_t = alpha + BETA * x_t + GAMMA * q_t + e_t)"
   ]
  },
  {
   "cell_type": "markdown",
   "metadata": {},
   "source": [
    "Estimate `beta_hat` from (misspecified) model:\n",
    "`z_t = alpha + beta * x_t + u_t`\n",
    "\n",
    "**11.4**"
   ]
  },
  {
   "cell_type": "code",
   "execution_count": 9,
   "metadata": {},
   "outputs": [
    {
     "data": {
      "text/plain": [
       "\n",
       "Call:\n",
       "lm(formula = z_t ~ x_t, data = df)\n",
       "\n",
       "Residuals:\n",
       "    Min      1Q  Median      3Q     Max \n",
       "-8.6316 -2.4583  0.2057  2.1837  7.5694 \n",
       "\n",
       "Coefficients:\n",
       "            Estimate Std. Error t value Pr(>|t|)    \n",
       "(Intercept)   1.6213     0.6186   2.621   0.0102 *  \n",
       "x_t          11.4267     1.2041   9.490 1.55e-15 ***\n",
       "---\n",
       "Signif. codes:  0 ‘***’ 0.001 ‘**’ 0.01 ‘*’ 0.05 ‘.’ 0.1 ‘ ’ 1\n",
       "\n",
       "Residual standard error: 3.309 on 98 degrees of freedom\n",
       "Multiple R-squared:  0.4789,\tAdjusted R-squared:  0.4736 \n",
       "F-statistic: 90.06 on 1 and 98 DF,  p-value: 1.548e-15\n"
      ]
     },
     "metadata": {},
     "output_type": "display_data"
    }
   ],
   "source": [
    "m = lm(z_t ~ x_t, data=df)\n",
    "summary(m)"
   ]
  },
  {
   "cell_type": "markdown",
   "metadata": {},
   "source": [
    "Test H0: `beta = 2`.\n",
    "\n",
    "**Estimated `beta` = 11.43. 95% CI = [9.04, 13.82] so we can reject `beta=2` under this misspecified model.**"
   ]
  },
  {
   "cell_type": "code",
   "execution_count": 10,
   "metadata": {},
   "outputs": [
    {
     "data": {
      "text/html": [
       "<table>\n",
       "<thead><tr><th></th><th scope=col>2.5 %</th><th scope=col>97.5 %</th></tr></thead>\n",
       "<tbody>\n",
       "\t<tr><th scope=row>(Intercept)</th><td>0.393792 </td><td> 2.848848</td></tr>\n",
       "\t<tr><th scope=row>x_t</th><td>9.037274 </td><td>13.816108</td></tr>\n",
       "</tbody>\n",
       "</table>\n"
      ],
      "text/latex": [
       "\\begin{tabular}{r|ll}\n",
       "  & 2.5 \\% & 97.5 \\%\\\\\n",
       "\\hline\n",
       "\t(Intercept) & 0.393792  &  2.848848\\\\\n",
       "\tx\\_t & 9.037274  & 13.816108\\\\\n",
       "\\end{tabular}\n"
      ],
      "text/markdown": [
       "\n",
       "| <!--/--> | 2.5 % | 97.5 % |\n",
       "|---|---|---|\n",
       "| (Intercept) | 0.393792  |  2.848848 |\n",
       "| x_t | 9.037274  | 13.816108 |\n",
       "\n"
      ],
      "text/plain": [
       "            2.5 %    97.5 %   \n",
       "(Intercept) 0.393792  2.848848\n",
       "x_t         9.037274 13.816108"
      ]
     },
     "metadata": {},
     "output_type": "display_data"
    }
   ],
   "source": [
    "confint(m)"
   ]
  },
  {
   "cell_type": "markdown",
   "metadata": {},
   "source": [
    "Discuss.\n",
    "\n",
    "**This is the result of omitted variable bias: `z_t` is being affected by `q_t` which is correlated with `x_t` in a nonlinear way that `x_t` can't soak up alone (if it were linear we'd expect `beta_hat = beta + gamma = 5`, rather than 11.43).**"
   ]
  },
  {
   "cell_type": "markdown",
   "metadata": {},
   "source": [
    "## Question 2\n",
    "\n",
    "Use the `AssassinationsData.RData` dataset."
   ]
  },
  {
   "cell_type": "code",
   "execution_count": 11,
   "metadata": {},
   "outputs": [],
   "source": [
    "load(\"AssassinationsData.RData\")"
   ]
  },
  {
   "cell_type": "markdown",
   "metadata": {},
   "source": [
    "(a) Regress whether the institution changed from 1 year before the attempt to 1 year\n",
    "after the attempt [`absnpolity2dummy11`] on whether or not the attempt was successful\n",
    "[`success`]. As in the original paper, make sure this is conditional on there being a “serious attempt” [`seriousattempt`]."
   ]
  },
  {
   "cell_type": "code",
   "execution_count": 12,
   "metadata": {},
   "outputs": [
    {
     "data": {
      "text/plain": [
       "\n",
       "Call:\n",
       "lm(formula = absnpolity2dummy11 ~ success, data = serious, na.action = na.omit)\n",
       "\n",
       "Residuals:\n",
       "     Min       1Q   Median       3Q      Max \n",
       "-0.15254 -0.04348 -0.04348 -0.04348  0.95652 \n",
       "\n",
       "Coefficients:\n",
       "            Estimate Std. Error t value Pr(>|t|)   \n",
       "(Intercept)  0.04348    0.02020   2.152  0.03247 * \n",
       "success      0.10906    0.03901   2.796  0.00564 **\n",
       "---\n",
       "Signif. codes:  0 ‘***’ 0.001 ‘**’ 0.01 ‘*’ 0.05 ‘.’ 0.1 ‘ ’ 1\n",
       "\n",
       "Residual standard error: 0.2563 on 218 degrees of freedom\n",
       "  (12 observations deleted due to missingness)\n",
       "Multiple R-squared:  0.03462,\tAdjusted R-squared:  0.03019 \n",
       "F-statistic: 7.817 on 1 and 218 DF,  p-value: 0.005637\n"
      ]
     },
     "metadata": {},
     "output_type": "display_data"
    }
   ],
   "source": [
    "serious = filter(AssassinationsData, seriousattempt == 1)\n",
    "\n",
    "m = lm(absnpolity2dummy11 ~ success, data=serious, na.action=na.omit)\n",
    "summary(m)"
   ]
  },
  {
   "cell_type": "markdown",
   "metadata": {},
   "source": [
    "i. Interpret `beta_hat`.\n",
    "\n",
    "**When an assassination is seriously attempted, successes are associated with an additional 10.9 percent chance that institutions will change from the year before the attempt to the year after.**\n",
    "\n",
    "ii. What assumptions do we need to interpret this as the expected difference in outcomes between when the attempt succeeds and when it fails?\n",
    "\n",
    "**Countries where the assassination attempt failed would have experienced equal institutional change to those where it succeeded, had the attempt succeeded (and vice versa).**\n",
    "\n",
    "iii. Why might these assumptions fail?\n",
    "\n",
    "**Countries with successful assassination attempts might turn out differently than those where it failed for reasons other than the success of the attempt. For example, countries already on their way to institutional improvement could attract assassination attempts that are more likely to succeed (beyond the seriousness threshold applied in the paper).**\n",
    "\n",
    "iv. Test the hypothesis that `beta=0` at the 5% level. Do you reject or fail to reject the\n",
    "null?\n",
    "\n",
    "**The p-value associated with `success` is 0.00564 < 0.05, so we can reject the null that `beta=0`.**"
   ]
  },
  {
   "cell_type": "markdown",
   "metadata": {},
   "source": [
    "(b) Control for fixed effects of the type of weapon used [weapondum2, weapondum3, ...] in\n",
    "the specification from (a)."
   ]
  },
  {
   "cell_type": "code",
   "execution_count": 13,
   "metadata": {},
   "outputs": [
    {
     "data": {
      "text/plain": [
       "\n",
       "Call:\n",
       "lm(formula = absnpolity2dummy11 ~ success + weapondum2 + weapondum3 + \n",
       "    weapondum4 + weapondum5 + weapondum6, data = serious, na.action = na.omit)\n",
       "\n",
       "Residuals:\n",
       "     Min       1Q   Median       3Q      Max \n",
       "-0.18306 -0.07186 -0.04732 -0.03402  0.96598 \n",
       "\n",
       "Coefficients: (1 not defined because of singularities)\n",
       "            Estimate Std. Error t value Pr(>|t|)   \n",
       "(Intercept)  0.03402    0.02720   1.251   0.2124   \n",
       "success      0.11120    0.04091   2.718   0.0071 **\n",
       "weapondum2   0.03667    0.08157   0.450   0.6535   \n",
       "weapondum3   0.01330    0.04358   0.305   0.7606   \n",
       "weapondum4        NA         NA      NA       NA   \n",
       "weapondum5   0.01358    0.07306   0.186   0.8527   \n",
       "weapondum6   0.03784    0.06688   0.566   0.5721   \n",
       "---\n",
       "Signif. codes:  0 ‘***’ 0.001 ‘**’ 0.01 ‘*’ 0.05 ‘.’ 0.1 ‘ ’ 1\n",
       "\n",
       "Residual standard error: 0.2584 on 214 degrees of freedom\n",
       "  (12 observations deleted due to missingness)\n",
       "Multiple R-squared:  0.03689,\tAdjusted R-squared:  0.01439 \n",
       "F-statistic: 1.639 on 5 and 214 DF,  p-value: 0.1508\n"
      ]
     },
     "metadata": {},
     "output_type": "display_data"
    }
   ],
   "source": [
    "m = lm(absnpolity2dummy11 ~ success + weapondum2 + weapondum3 + weapondum4 + \n",
    "       weapondum5 + weapondum6, data=serious, na.action=na.omit)\n",
    "summary(m)"
   ]
  },
  {
   "cell_type": "markdown",
   "metadata": {},
   "source": [
    "i. Why would you want to include these controls?\n",
    "\n",
    "**Weapons could differ in their likelihood to successfully assassinate a leader. Controlling for it could reduce the seriousness-spectrum concern I raised above.**\n",
    "\n",
    "ii. Does your interpretation of `beta_hat` change? If so, how so?\n",
    "\n",
    "**Adding controls leaves `beta_hat` essentially unmoved, from 0.109 to 0.111. The interpretation becomes: When an assassination is seriously attempted *with a particular weapon type*, successes are associated with an additional 11.1 percent chance that institutions will change from the year before the attempt to the year after.**\n",
    "\n",
    "iii. Under what assumptions can we interpret `beta_hat` as the expected difference in outcomes between when the attempt succeeds and when it fails?\n",
    "\n",
    "**Countries where the assassination attempt *with a particular weapon type* failed would have experienced equal institutional change to those where it succeeded, had the attempt succeeded (and vice versa).**\n",
    "\n",
    "iv. Test the hypothesis that `beta` = 0.1 at the 5% level. Do you reject or fail to reject the null?\n",
    "\n",
    "**Since the confidence interval of [0.03, 0.19] includes 0.1, we fail to reject the null.**"
   ]
  },
  {
   "cell_type": "code",
   "execution_count": 14,
   "metadata": {},
   "outputs": [
    {
     "data": {
      "text/html": [
       "<table>\n",
       "<thead><tr><th></th><th scope=col>2.5 %</th><th scope=col>97.5 %</th></tr></thead>\n",
       "<tbody>\n",
       "\t<tr><th scope=row>(Intercept)</th><td>-0.01958890</td><td>0.08762935 </td></tr>\n",
       "\t<tr><th scope=row>success</th><td> 0.03056680</td><td>0.19182819 </td></tr>\n",
       "\t<tr><th scope=row>weapondum2</th><td>-0.12411808</td><td>0.19746037 </td></tr>\n",
       "\t<tr><th scope=row>weapondum3</th><td>-0.07260721</td><td>0.09920417 </td></tr>\n",
       "\t<tr><th scope=row>weapondum4</th><td>         NA</td><td>        NA </td></tr>\n",
       "\t<tr><th scope=row>weapondum5</th><td>-0.13042193</td><td>0.15758256 </td></tr>\n",
       "\t<tr><th scope=row>weapondum6</th><td>-0.09399329</td><td>0.16967256 </td></tr>\n",
       "</tbody>\n",
       "</table>\n"
      ],
      "text/latex": [
       "\\begin{tabular}{r|ll}\n",
       "  & 2.5 \\% & 97.5 \\%\\\\\n",
       "\\hline\n",
       "\t(Intercept) & -0.01958890 & 0.08762935 \\\\\n",
       "\tsuccess &  0.03056680 & 0.19182819 \\\\\n",
       "\tweapondum2 & -0.12411808 & 0.19746037 \\\\\n",
       "\tweapondum3 & -0.07260721 & 0.09920417 \\\\\n",
       "\tweapondum4 &          NA &         NA \\\\\n",
       "\tweapondum5 & -0.13042193 & 0.15758256 \\\\\n",
       "\tweapondum6 & -0.09399329 & 0.16967256 \\\\\n",
       "\\end{tabular}\n"
      ],
      "text/markdown": [
       "\n",
       "| <!--/--> | 2.5 % | 97.5 % |\n",
       "|---|---|---|\n",
       "| (Intercept) | -0.01958890 | 0.08762935  |\n",
       "| success |  0.03056680 | 0.19182819  |\n",
       "| weapondum2 | -0.12411808 | 0.19746037  |\n",
       "| weapondum3 | -0.07260721 | 0.09920417  |\n",
       "| weapondum4 |          NA |         NA  |\n",
       "| weapondum5 | -0.13042193 | 0.15758256  |\n",
       "| weapondum6 | -0.09399329 | 0.16967256  |\n",
       "\n"
      ],
      "text/plain": [
       "            2.5 %       97.5 %    \n",
       "(Intercept) -0.01958890 0.08762935\n",
       "success      0.03056680 0.19182819\n",
       "weapondum2  -0.12411808 0.19746037\n",
       "weapondum3  -0.07260721 0.09920417\n",
       "weapondum4           NA         NA\n",
       "weapondum5  -0.13042193 0.15758256\n",
       "weapondum6  -0.09399329 0.16967256"
      ]
     },
     "metadata": {},
     "output_type": "display_data"
    }
   ],
   "source": [
    "confint(m)"
   ]
  },
  {
   "cell_type": "markdown",
   "metadata": {},
   "source": [
    "## Question 3: Instrumental Variables\n",
    "\n",
    "Use the AJRData.RData dataset."
   ]
  },
  {
   "cell_type": "code",
   "execution_count": 15,
   "metadata": {},
   "outputs": [],
   "source": [
    "load('AJRData.RData')"
   ]
  },
  {
   "cell_type": "markdown",
   "metadata": {},
   "source": [
    "(a) Regress the log GDP per capita in 1995 [logpgp95] on the average protection against\n",
    "expropriation risk [avexpr]. In this and other problems, restrict the sample to that in\n",
    "the paper [baseco should equal 1].\n",
    "R Tip: For plotting, consider the package ggplot2."
   ]
  },
  {
   "cell_type": "code",
   "execution_count": 16,
   "metadata": {},
   "outputs": [
    {
     "data": {
      "text/plain": [
       "\n",
       "Call:\n",
       "lm(formula = logpgp95 ~ avexpr, data = ajr)\n",
       "\n",
       "Residuals:\n",
       "    Min      1Q  Median      3Q     Max \n",
       "-1.8715 -0.4644  0.1683  0.4610  1.1413 \n",
       "\n",
       "Coefficients:\n",
       "            Estimate Std. Error t value Pr(>|t|)    \n",
       "(Intercept)  4.66038    0.40851  11.408  < 2e-16 ***\n",
       "avexpr       0.52211    0.06119   8.533 4.72e-12 ***\n",
       "---\n",
       "Signif. codes:  0 ‘***’ 0.001 ‘**’ 0.01 ‘*’ 0.05 ‘.’ 0.1 ‘ ’ 1\n",
       "\n",
       "Residual standard error: 0.7132 on 62 degrees of freedom\n",
       "Multiple R-squared:  0.5401,\tAdjusted R-squared:  0.5327 \n",
       "F-statistic: 72.82 on 1 and 62 DF,  p-value: 4.724e-12\n"
      ]
     },
     "metadata": {},
     "output_type": "display_data"
    }
   ],
   "source": [
    "ajr = filter(AJRData, baseco == 1)\n",
    "\n",
    "m = lm(logpgp95 ~ avexpr, data=ajr)\n",
    "summary(m)"
   ]
  },
  {
   "cell_type": "markdown",
   "metadata": {},
   "source": [
    "i. Interpret `beta_ols`.\n",
    "\n",
    "**A one-point increase in the \"protection against expropriation risk\" score is associated with a 0.52 increase in log GDP per capita.**\n",
    "\n",
    "ii. Is your interpretation causal? Why or why not?\n",
    "\n",
    "**Probably not, since there could be reverse causality (richer countries have better property rights) and/or omitted variable bias (e.g. stable leadership could cause both strong economies and property rights).**\n",
    "\n",
    "iii. Plot log GDP per capita in 95 against avexpr."
   ]
  },
  {
   "cell_type": "code",
   "execution_count": 17,
   "metadata": {},
   "outputs": [
    {
     "data": {
      "image/png": "[encoded data removed]",
      "text/plain": [
       "plot without title"
      ]
     },
     "metadata": {},
     "output_type": "display_data"
    }
   ],
   "source": [
    "ggplot(ajr, aes(logpgp95, avexpr)) + geom_point()"
   ]
  },
  {
   "cell_type": "markdown",
   "metadata": {},
   "source": [
    "(b) Regress the average protection against expropriation risk on settler mortality [logem4].\n",
    "Call this `pi_hat`."
   ]
  },
  {
   "cell_type": "code",
   "execution_count": 18,
   "metadata": {},
   "outputs": [
    {
     "data": {
      "text/plain": [
       "\n",
       "Call:\n",
       "lm(formula = avexpr ~ logem4, data = ajr)\n",
       "\n",
       "Residuals:\n",
       "    Min      1Q  Median      3Q     Max \n",
       "-2.6606 -0.9922  0.0280  0.8266  3.3566 \n",
       "\n",
       "Coefficients:\n",
       "            Estimate Std. Error t value Pr(>|t|)    \n",
       "(Intercept)   9.3414     0.6107   15.30  < 2e-16 ***\n",
       "logem4       -0.6068     0.1267   -4.79 1.08e-05 ***\n",
       "---\n",
       "Signif. codes:  0 ‘***’ 0.001 ‘**’ 0.01 ‘*’ 0.05 ‘.’ 0.1 ‘ ’ 1\n",
       "\n",
       "Residual standard error: 1.265 on 62 degrees of freedom\n",
       "Multiple R-squared:  0.2701,\tAdjusted R-squared:  0.2584 \n",
       "F-statistic: 22.95 on 1 and 62 DF,  p-value: 1.077e-05\n"
      ]
     },
     "metadata": {},
     "output_type": "display_data"
    }
   ],
   "source": [
    "m = lm(avexpr ~ logem4, data=ajr)\n",
    "summary(m)"
   ]
  },
  {
   "cell_type": "code",
   "execution_count": 19,
   "metadata": {},
   "outputs": [
    {
     "data": {
      "text/html": [
       "<strong>logem4:</strong> -0.606778248833894"
      ],
      "text/latex": [
       "\\textbf{logem4:} -0.606778248833894"
      ],
      "text/markdown": [
       "**logem4:** -0.606778248833894"
      ],
      "text/plain": [
       "    logem4 \n",
       "-0.6067782 "
      ]
     },
     "metadata": {},
     "output_type": "display_data"
    }
   ],
   "source": [
    "(pi_hat = coef(m)['logem4'])"
   ]
  },
  {
   "cell_type": "markdown",
   "metadata": {},
   "source": [
    "i. Plot avexpr against settler mortality."
   ]
  },
  {
   "cell_type": "code",
   "execution_count": 20,
   "metadata": {},
   "outputs": [
    {
     "data": {
      "image/png": "[encoded data removed]",
      "text/plain": [
       "plot without title"
      ]
     },
     "metadata": {},
     "output_type": "display_data"
    }
   ],
   "source": [
    "ggplot(ajr, aes(logem4, avexpr)) + geom_point()"
   ]
  },
  {
   "cell_type": "markdown",
   "metadata": {},
   "source": [
    "ii. Interpret the relationship.\n",
    "\n",
    "**Settler mortality has a moderate negative correlation with protection against expropriation risk; more settler deaths predicts worse property rights today.**\n",
    "\n",
    "(c) Regress the log GDP per capita in 1995 on settler mortality. Call this `gamma_hat`."
   ]
  },
  {
   "cell_type": "code",
   "execution_count": 21,
   "metadata": {},
   "outputs": [
    {
     "data": {
      "text/plain": [
       "\n",
       "Call:\n",
       "lm(formula = logpgp95 ~ logem4, data = ajr)\n",
       "\n",
       "Residuals:\n",
       "    Min      1Q  Median      3Q     Max \n",
       "-2.7545 -0.5386  0.1412  0.4607  1.4059 \n",
       "\n",
       "Coefficients:\n",
       "            Estimate Std. Error t value Pr(>|t|)    \n",
       "(Intercept) 10.73057    0.36718  29.224  < 2e-16 ***\n",
       "logem4      -0.57297    0.07616  -7.523 2.66e-10 ***\n",
       "---\n",
       "Signif. codes:  0 ‘***’ 0.001 ‘**’ 0.01 ‘*’ 0.05 ‘.’ 0.1 ‘ ’ 1\n",
       "\n",
       "Residual standard error: 0.7604 on 62 degrees of freedom\n",
       "Multiple R-squared:  0.4772,\tAdjusted R-squared:  0.4688 \n",
       "F-statistic:  56.6 on 1 and 62 DF,  p-value: 2.659e-10\n"
      ]
     },
     "metadata": {},
     "output_type": "display_data"
    }
   ],
   "source": [
    "m = lm(logpgp95 ~ logem4, data=ajr)\n",
    "summary(m)"
   ]
  },
  {
   "cell_type": "code",
   "execution_count": 22,
   "metadata": {},
   "outputs": [
    {
     "data": {
      "text/html": [
       "<strong>logem4:</strong> -0.572968191734175"
      ],
      "text/latex": [
       "\\textbf{logem4:} -0.572968191734175"
      ],
      "text/markdown": [
       "**logem4:** -0.572968191734175"
      ],
      "text/plain": [
       "    logem4 \n",
       "-0.5729682 "
      ]
     },
     "metadata": {},
     "output_type": "display_data"
    }
   ],
   "source": [
    "(gamma_hat = coef(m)['logem4'])"
   ]
  },
  {
   "cell_type": "markdown",
   "metadata": {},
   "source": [
    "i. Plot the relationship."
   ]
  },
  {
   "cell_type": "code",
   "execution_count": 23,
   "metadata": {},
   "outputs": [
    {
     "data": {
      "image/png": "[encoded data removed]",
      "text/plain": [
       "plot without title"
      ]
     },
     "metadata": {},
     "output_type": "display_data"
    }
   ],
   "source": [
    "ggplot(ajr, aes(logem4, logpgp95)) + geom_point()"
   ]
  },
  {
   "cell_type": "markdown",
   "metadata": {},
   "source": [
    "ii. Compute `gamma_hat/pi_hat`."
   ]
  },
  {
   "cell_type": "code",
   "execution_count": 24,
   "metadata": {},
   "outputs": [
    {
     "data": {
      "text/html": [
       "<strong>logem4:</strong> 0.944279385154799"
      ],
      "text/latex": [
       "\\textbf{logem4:} 0.944279385154799"
      ],
      "text/markdown": [
       "**logem4:** 0.944279385154799"
      ],
      "text/plain": [
       "   logem4 \n",
       "0.9442794 "
      ]
     },
     "metadata": {},
     "output_type": "display_data"
    }
   ],
   "source": [
    "gamma_hat / pi_hat"
   ]
  },
  {
   "cell_type": "markdown",
   "metadata": {},
   "source": [
    "(d) Compute a 2SLS regression of log GDP per capita in 1995 on avexpr, using settler\n",
    "mortality as an instrumental variable.\n",
    "R Tip: For IV, try the “ivreg” command in the “AER” package."
   ]
  },
  {
   "cell_type": "code",
   "execution_count": 25,
   "metadata": {},
   "outputs": [
    {
     "data": {
      "text/plain": [
       "\n",
       "Call:\n",
       "ivreg(formula = logpgp95 ~ avexpr | logem4, data = ajr)\n",
       "\n",
       "Residuals:\n",
       "     Min       1Q   Median       3Q      Max \n",
       "-2.44903 -0.56242  0.07311  0.69564  1.71752 \n",
       "\n",
       "Coefficients:\n",
       "            Estimate Std. Error t value Pr(>|t|)    \n",
       "(Intercept)   1.9097     1.0267   1.860   0.0676 .  \n",
       "avexpr        0.9443     0.1565   6.033  9.8e-08 ***\n",
       "---\n",
       "Signif. codes:  0 ‘***’ 0.001 ‘**’ 0.01 ‘*’ 0.05 ‘.’ 0.1 ‘ ’ 1\n",
       "\n",
       "Residual standard error: 0.9483 on 62 degrees of freedom\n",
       "Multiple R-Squared: 0.187,\tAdjusted R-squared: 0.1739 \n",
       "Wald test: 36.39 on 1 and 62 DF,  p-value: 9.799e-08 \n"
      ]
     },
     "metadata": {},
     "output_type": "display_data"
    }
   ],
   "source": [
    "m = ivreg(logpgp95 ~ avexpr | logem4, data=ajr)\n",
    "summary(m)"
   ]
  },
  {
   "cell_type": "markdown",
   "metadata": {},
   "source": [
    "i. Interpret `beta_2sls`.\n",
    "\n",
    "**`beta_2sls` is the effect of expropriation risk on log GDP per capita, using settler mortality as an instrument.**\n",
    "\n",
    "ii. Compare `beta_2sls` to `beta_ols`. Are they similar or different? Why do you think this is the case?\n",
    "\n",
    "**`beta_2sls` = 0.94, greater than `beta_ols` = 0.52. This indicates that the OLS bias corrected by instrumenting on settler mortality was *negative*. That could result from reverse causality going the opposite direction of forward causality (richer countries protect property rights less) or omitted variables going the opposite direction (e.g. stable leadership improves the economy but worsens property rights).**\n",
    "\n",
    "iii. Under what assumption can you interpret each of these causally.\n",
    "\n",
    "**`beta_ols` can be interpreted causally if the error is uncorrelated with the outcome; that is, if the error in predicting log GDP per capita from expropriation risk doesn't correlate to log GDP per capita itself. `beta_2sls` can be interpreted causally if the exclusion assumption is satisfied; that is, if settler mortality doesn't affect GDP in any way other than via expropriation risk.**\n",
    "\n",
    "iv. Compare `beta_2sls` to `gamma/pi`. Explain, mathematically, the relationship between `beta_2sls`, `pi`, and `gamma`.\n",
    "\n",
    "**`beta_2sls` = `gamma/pi` = 0.94. `beta_2sls` always equals `gamma/pi`, the reduced form coefficient divided by the first stage coefficient.**"
   ]
  }
 ],
 "metadata": {
  "kernelspec": {
   "display_name": "R",
   "language": "R",
   "name": "ir"
  },
  "language_info": {
   "codemirror_mode": "r",
   "file_extension": ".r",
   "mimetype": "text/x-r-source",
   "name": "R",
   "pygments_lexer": "r",
   "version": "3.6.1"
  }
 },
 "nbformat": 4,
 "nbformat_minor": 2
}
