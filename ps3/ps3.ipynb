{
 "cells": [
  {
   "cell_type": "markdown",
   "metadata": {},
   "source": [
    "# 14.75 Problem Set 3 - 1b (Max Ghenis)\n",
    ">As a man of science, Bruce Wayne has decided to donate campaign contributions to\n",
    "random candidates in each of 100 county elections for each of the last 10 years. However, his campaign contribution amounts may vary, systematically, with the county.\n",
    "That is, Bruce may favor giving contributions more in some counties than in others."
   ]
  },
  {
   "cell_type": "code",
   "execution_count": 1,
   "metadata": {},
   "outputs": [],
   "source": [
    "load('votingData.RData')"
   ]
  },
  {
   "cell_type": "markdown",
   "metadata": {},
   "source": [
    "\n",
    ">(i) Regress the vote percent received by Wayne’s party on the campaign donation.\n",
    "What is the effect of a one standard deviation increase in campaign donation\n",
    "on the share of votes received?\n",
    "\n",
    ">(ii) Generate a scatter plot of vote percentage against campaign donations.\n",
    "\n",
    ">(iii) Regress the vote percent received by Wayne’s party on the campaign donation,\n",
    "including fixed effects. What is the effect of a one standard deviation increase\n",
    "in campaign donation on the share\n",
    "\n",
    ">(iv) Discuss the difference, if any, between (i) and (iii). How is this possible?\n",
    "\n",
    ">(v) Generate a scatter plot of vote percentage against campaign donations separately for two counties of your choosing. Compare these pictures to the one in\n",
    "(ii). Does this support your explanation in (iv)?"
   ]
  },
  {
   "cell_type": "code",
   "execution_count": 3,
   "metadata": {},
   "outputs": [
    {
     "data": {
      "text/html": [
       "<ol class=list-inline>\n",
       "\t<li>'county'</li>\n",
       "\t<li>'year'</li>\n",
       "\t<li>'campaignDonation'</li>\n",
       "\t<li>'votePercent'</li>\n",
       "</ol>\n"
      ],
      "text/latex": [
       "\\begin{enumerate*}\n",
       "\\item 'county'\n",
       "\\item 'year'\n",
       "\\item 'campaignDonation'\n",
       "\\item 'votePercent'\n",
       "\\end{enumerate*}\n"
      ],
      "text/markdown": [
       "1. 'county'\n",
       "2. 'year'\n",
       "3. 'campaignDonation'\n",
       "4. 'votePercent'\n",
       "\n",
       "\n"
      ],
      "text/plain": [
       "[1] \"county\"           \"year\"             \"campaignDonation\" \"votePercent\"     "
      ]
     },
     "metadata": {},
     "output_type": "display_data"
    }
   ],
   "source": [
    "names(votingData)"
   ]
  }
 ],
 "metadata": {
  "kernelspec": {
   "display_name": "R",
   "language": "R",
   "name": "ir"
  },
  "language_info": {
   "codemirror_mode": "r",
   "file_extension": ".r",
   "mimetype": "text/x-r-source",
   "name": "R",
   "pygments_lexer": "r",
   "version": "3.6.1"
  }
 },
 "nbformat": 4,
 "nbformat_minor": 4
}
