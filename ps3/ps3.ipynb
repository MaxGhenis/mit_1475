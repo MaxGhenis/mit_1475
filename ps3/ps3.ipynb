{
 "cells": [
  {
   "cell_type": "markdown",
   "metadata": {},
   "source": [
    "# 14.75 Problem Set 3 (Max Ghenis)\n",
    "\n",
    "## 1 - voting data\n",
    "\n",
    "### 1a\n",
    ">Mathematically prove that the fixed effects estimation of  \n",
    "$y_{it} = \\gamma_0 + \\alpha_i + \\beta_0 x_{it} + \\epsilon_{it}$  \n",
    "delivers a numerically identical coefficient to the regression of $y_{it}$'s deviation from its time average $y_{i\\cdot}:= T^{−1} \\sum_t y_{it}$ on $x_{it}$’s deviation from its time average.\n",
    "\n",
    "$y_{it} - T^{-1} \\sum_t y_{it} = \\gamma_0 + \\beta_0 (x_{it} - T^{-1} \\sum_t x_{it}) + \\epsilon_{it}$\n",
    "\n",
    "$y_{it} - T^{-1} \\sum_t y_{it} = \\gamma_0 - \\beta_0 T^{-1} \\sum_t x_{it} + \\beta_0 x_{it} + \\epsilon_{it}$\n",
    "\n",
    "$y_{it} = \\gamma_0 + T^{-1} \\sum_t (y_{it} - \\beta_0 x_{it}) + \\beta_0 x_{it} + \\epsilon_{it}$\n",
    "\n",
    "Let $\\alpha_i := T^{-1} \\sum_t (y_{it} - \\beta_0 x_{it})$\n",
    "\n",
    "$y_{it} = \\gamma_0 + \\alpha_i + \\beta_0 x_{it} + \\epsilon_{it}$\n",
    "\n",
    "### 1b\n",
    "\n",
    ">As a man of science, Bruce Wayne has decided to donate campaign contributions to\n",
    "random candidates in each of 100 county elections for each of the last 10 years. However, his campaign contribution amounts may vary, systematically, with the county.\n",
    "That is, Bruce may favor giving contributions more in some counties than in others."
   ]
  },
  {
   "cell_type": "code",
   "execution_count": 1,
   "metadata": {},
   "outputs": [],
   "source": [
    "suppressMessages({\n",
    "    library(tidyverse)\n",
    "    library(magrittr)\n",
    "    })"
   ]
  },
  {
   "cell_type": "code",
   "execution_count": 2,
   "metadata": {},
   "outputs": [],
   "source": [
    "load('votingData.RData')"
   ]
  },
  {
   "cell_type": "markdown",
   "metadata": {},
   "source": [
    "#### 1b(i)\n",
    ">Regress the vote percent received by Wayne’s party on the campaign donation."
   ]
  },
  {
   "cell_type": "code",
   "execution_count": 3,
   "metadata": {},
   "outputs": [
    {
     "data": {
      "text/plain": [
       "     county            year      campaignDonation  votePercent    \n",
       " Min.   :  1.00   Min.   : 1.0   Min.   :13.18    Min.   :0.2092  \n",
       " 1st Qu.: 25.75   1st Qu.: 3.0   1st Qu.:28.53    1st Qu.:0.4920  \n",
       " Median : 50.50   Median : 5.5   Median :35.77    Median :0.5804  \n",
       " Mean   : 50.50   Mean   : 5.5   Mean   :35.63    Mean   :0.5789  \n",
       " 3rd Qu.: 75.25   3rd Qu.: 8.0   3rd Qu.:42.38    3rd Qu.:0.6683  \n",
       " Max.   :100.00   Max.   :10.0   Max.   :64.42    Max.   :0.8627  "
      ]
     },
     "metadata": {},
     "output_type": "display_data"
    }
   ],
   "source": [
    "summary(votingData)"
   ]
  },
  {
   "cell_type": "code",
   "execution_count": 4,
   "metadata": {},
   "outputs": [],
   "source": [
    "votingData %<>% transform(\n",
    "    campaignDonationNorm =\n",
    "    (campaignDonation - mean(votingData$campaignDonation)) / \n",
    "     sd(votingData$campaignDonation))"
   ]
  },
  {
   "cell_type": "code",
   "execution_count": 5,
   "metadata": {},
   "outputs": [
    {
     "data": {
      "text/plain": [
       "\n",
       "Call:\n",
       "lm(formula = votePercent ~ campaignDonation, data = votingData)\n",
       "\n",
       "Residuals:\n",
       "      Min        1Q    Median        3Q       Max \n",
       "-0.124117 -0.022814 -0.000893  0.023577  0.097810 \n",
       "\n",
       "Coefficients:\n",
       "                   Estimate Std. Error t value Pr(>|t|)    \n",
       "(Intercept)       1.0078643  0.0043062   234.1   <2e-16 ***\n",
       "campaignDonation -0.0120381  0.0001168  -103.1   <2e-16 ***\n",
       "---\n",
       "Signif. codes:  0 ‘***’ 0.001 ‘**’ 0.01 ‘*’ 0.05 ‘.’ 0.1 ‘ ’ 1\n",
       "\n",
       "Residual standard error: 0.035 on 998 degrees of freedom\n",
       "Multiple R-squared:  0.9141,\tAdjusted R-squared:  0.914 \n",
       "F-statistic: 1.062e+04 on 1 and 998 DF,  p-value: < 2.2e-16\n"
      ]
     },
     "metadata": {},
     "output_type": "display_data"
    }
   ],
   "source": [
    "summary(lm(votePercent ~ campaignDonation, data=votingData))"
   ]
  },
  {
   "cell_type": "code",
   "execution_count": 6,
   "metadata": {},
   "outputs": [
    {
     "data": {
      "text/plain": [
       "\n",
       "Call:\n",
       "lm(formula = votePercent ~ campaignDonationNorm, data = votingData)\n",
       "\n",
       "Residuals:\n",
       "      Min        1Q    Median        3Q       Max \n",
       "-0.124117 -0.022814 -0.000893  0.023577  0.097810 \n",
       "\n",
       "Coefficients:\n",
       "                      Estimate Std. Error t value Pr(>|t|)    \n",
       "(Intercept)           0.578912   0.001107   523.1   <2e-16 ***\n",
       "campaignDonationNorm -0.114128   0.001107  -103.1   <2e-16 ***\n",
       "---\n",
       "Signif. codes:  0 ‘***’ 0.001 ‘**’ 0.01 ‘*’ 0.05 ‘.’ 0.1 ‘ ’ 1\n",
       "\n",
       "Residual standard error: 0.035 on 998 degrees of freedom\n",
       "Multiple R-squared:  0.9141,\tAdjusted R-squared:  0.914 \n",
       "F-statistic: 1.062e+04 on 1 and 998 DF,  p-value: < 2.2e-16\n"
      ]
     },
     "metadata": {},
     "output_type": "display_data"
    }
   ],
   "source": [
    "summary(lm(votePercent ~ campaignDonationNorm, data=votingData))"
   ]
  },
  {
   "cell_type": "markdown",
   "metadata": {},
   "source": [
    ">What is the effect of a one standard deviation increase in campaign donation\n",
    "on the share of votes received?\n",
    "\n",
    "**A one standard deviation increase in campaign donation is associated with a vote share reduction of 11.4 percentage points.**"
   ]
  },
  {
   "cell_type": "markdown",
   "metadata": {},
   "source": [
    "#### 1b(ii)\n",
    ">Generate a scatter plot of vote percentage against campaign donations."
   ]
  },
  {
   "cell_type": "code",
   "execution_count": 7,
   "metadata": {},
   "outputs": [
    {
     "data": {
      "image/png": "[encoded data removed]",
      "text/plain": [
       "plot without title"
      ]
     },
     "metadata": {},
     "output_type": "display_data"
    }
   ],
   "source": [
    "votingData %>% ggplot(aes(campaignDonation, votePercent)) + geom_point()"
   ]
  },
  {
   "cell_type": "markdown",
   "metadata": {},
   "source": [
    "#### 1b(iii)\n",
    ">Regress the vote percent received by Wayne’s party on the campaign donation,\n",
    "including fixed effects."
   ]
  },
  {
   "cell_type": "code",
   "execution_count": 21,
   "metadata": {},
   "outputs": [],
   "source": [
    "# Add county means across years for campaignDonationNorm and votePercent.\n",
    "votingData %<>% \n",
    "group_by(county) %>% \n",
    "mutate_at(vars(campaignDonationNorm, votePercent), \n",
    "          .funs=list(mean=mean))"
   ]
  },
  {
   "cell_type": "code",
   "execution_count": 22,
   "metadata": {},
   "outputs": [],
   "source": [
    "# Subtract per-year mean from data.\n",
    "votingData %<>% transform(\n",
    "    campaignDonationNorm_demeaned = \n",
    "    campaignDonationNorm - campaignDonationNorm_mean,\n",
    "    votePercent_demeaned = votePercent - votePercent_mean)"
   ]
  },
  {
   "cell_type": "code",
   "execution_count": 24,
   "metadata": {},
   "outputs": [
    {
     "data": {
      "text/plain": [
       "\n",
       "Call:\n",
       "lm(formula = votePercent_demeaned ~ campaignDonationNorm_demeaned, \n",
       "    data = votingData)\n",
       "\n",
       "Residuals:\n",
       "       Min         1Q     Median         3Q        Max \n",
       "-0.0224805 -0.0050592  0.0000658  0.0050019  0.0209900 \n",
       "\n",
       "Coefficients:\n",
       "                                Estimate Std. Error t value Pr(>|t|)    \n",
       "(Intercept)                   -1.437e-18  2.255e-04    0.00        1    \n",
       "campaignDonationNorm_demeaned  1.182e-01  1.634e-03   72.37   <2e-16 ***\n",
       "---\n",
       "Signif. codes:  0 ‘***’ 0.001 ‘**’ 0.01 ‘*’ 0.05 ‘.’ 0.1 ‘ ’ 1\n",
       "\n",
       "Residual standard error: 0.00713 on 998 degrees of freedom\n",
       "Multiple R-squared:   0.84,\tAdjusted R-squared:  0.8398 \n",
       "F-statistic:  5238 on 1 and 998 DF,  p-value: < 2.2e-16\n"
      ]
     },
     "metadata": {},
     "output_type": "display_data"
    }
   ],
   "source": [
    "summary(lm(votePercent_demeaned ~ campaignDonationNorm_demeaned,\n",
    "           data=votingData))"
   ]
  },
  {
   "cell_type": "markdown",
   "metadata": {},
   "source": [
    ">What is the effect of a one standard deviation increase in campaign donation on the share of votes received?\n",
    "\n",
    "**When controlling for county fixed effects, a one standard deviation increase in campaign donation is associated with an 11.8 increase to the vote share.**\n",
    "\n",
    "#### 1b(iv)\n",
    ">Discuss the difference, if any, between (i) and (iii). How is this possible?\n",
    "\n",
    "**County fixed effects cause the sign of the relationship to switch. This could result from a negative correlation between donations and vote shares at the county level, but a positive correlation within counties. Intuitively this makes sense as Bruce Wayne would want to concentrate donations in low-vote-share counties, while larger donations within counties across years could raise the vote share there.**"
   ]
  },
  {
   "cell_type": "markdown",
   "metadata": {},
   "source": [
    "#### 1b(v)\n",
    ">Generate a scatter plot of vote percentage against campaign donations separately for two counties of your choosing."
   ]
  },
  {
   "cell_type": "code",
   "execution_count": 19,
   "metadata": {},
   "outputs": [
    {
     "data": {
      "image/png": "[encoded data removed]",
      "text/plain": [
       "plot without title"
      ]
     },
     "metadata": {},
     "output_type": "display_data"
    }
   ],
   "source": [
    "votingData %>% \n",
    "subset(county < 3) %>%\n",
    "ggplot(aes(campaignDonation, votePercent)) + geom_point() + \n",
    "facet_grid(, vars(county))"
   ]
  },
  {
   "cell_type": "markdown",
   "metadata": {},
   "source": [
    "> Compare these pictures to the one in (ii). Does this support your explanation in (iv)?\n",
    "\n",
    "**Yes, within each county, the vote share increases with the campaign donation, but the county with greater campaign donations (in this case, county 1) also has a lower average vote share.**"
   ]
  },
  {
   "cell_type": "markdown",
   "metadata": {},
   "source": [
    "## 2\n",
    "\n",
    ">There is a population of $n$ individuals. They have differing earning potentials, supply one unit of labor, and earn $y_1$ or $y_0$ depending on whether they are of higher earning potential (1) or lower earning potential (0). Every individual belongs to a caste, $h$ or $l$. We put $\\lambda_{jc}$ be the fraction of population in potential $j$ and caste $c$. Clearly $\\sum_{j,c} \\lambda_{jc} = 1$. Define $\\lambda_c \\equiv \\lambda_{1c} + \\lambda_{0c}$ and $\\lambda_j \\equiv \\lambda_{jh} + \\lambda_{jl}$.\n",
    "\n",
    "### 2a\n",
    "\n",
    ">Write a condition such that the low caste types constitute a minority in the population.\n",
    "\n",
    "$\\lambda_l < \\lambda_h$\n",
    "\n",
    "i.e. $(\\lambda_{0l} + \\lambda_{1l}) < (\\lambda_{0h} + \\lambda_{1h})$"
   ]
  },
  {
   "cell_type": "markdown",
   "metadata": {},
   "source": [
    "### 2b\n",
    "\n",
    ">Interpret the condition that\n",
    "\n",
    "$\\frac{\\lambda_{0l}}{\\lambda_{1l}}$ > $\\frac{\\lambda_{0h}}{\\lambda_{1h}}$\n",
    "\n",
    "**Low potential workers are a larger share of the lower caste than of the higher caste.**"
   ]
  },
  {
   "cell_type": "markdown",
   "metadata": {},
   "source": [
    "### 2c\n",
    "\n",
    ">Individual income is taxed at rate $\\tau$, if it is taxed. There are two ways it can be\n",
    "redistributed:  \n",
    "(i) Policy 0: $\\tau = 0$, no redistribution.  \n",
    "(ii) Policy 1: $\\tau = 1$, $T$ is given to every individual.  \n",
    "• Interpret what this means in terms of outcomes for high earning potential\n",
    "and low earning potential workers.\n",
    "\n",
    "**Everyone's net income is equal, regardless of potential. This is a net loss for high earners and net gain for low earners.**\n",
    "\n",
    ">(iii) Policy 2: $\\tau = 1$, $\\delta_c = \\delta$ is given to all low caste types and $\\delta_c = 0$ to all high caste types.  \n",
    "• Interpret what this means in terms of outcomes for high and low caste\n",
    "individuals.\n",
    "\n",
    "**All earnings are distributed among the low caste, and the high caste individuals get nothing. All high caste individuals experience a net loss, and all low caste low potential individuals experience a net gain; the net effect on low caste high potential individuals depends on the composition.**"
   ]
  },
  {
   "cell_type": "markdown",
   "metadata": {},
   "source": [
    "### 2d\n",
    "\n",
    ">We will assume that the budget is balanced. So the transfers to all individuals sum\n",
    "up to the entire income in the economy. What does this mean for:  \n",
    "(i) Policy 1? Express mathematically.\n",
    "\n",
    "$T = y_0 \\lambda_0 + y_1 \\lambda_1$\n",
    "\n",
    ">(ii) Policy 2? Express mathematically.\n",
    "\n",
    "$\\delta \\lambda_l = y_0 \\lambda_0 + y_1 \\lambda_1$"
   ]
  },
  {
   "cell_type": "markdown",
   "metadata": {},
   "source": [
    "### 2e\n",
    "\n",
    ">Under each of the 3 policies, payoffs are given by:  \n",
    "$u_{jc} = y_j$ or $u_{jc} = T$ or $u_{jc} = \\delta_c$.  \n",
    "For each of the responses below, if there are multiple answers, depending on parameter\n",
    "values, please specify the cases and the threshold parameter values. That is, if a group\n",
    "will prefer policy 1 if, say $x \\geq \\bar{x}$ but policy 2 if $x < \\bar{x}$, please note this clearly.  \n",
    "(i) What policy do high earning potential, high caste prefer? Why?\n",
    "\n",
    "**Policy 1. $T= y_0 \\lambda_0 + y_1 \\lambda_1<y_1$ so they must prefer 1 over 2, and the high caste gets nothing in policy 3.**\n",
    "\n",
    ">(ii) What policy do low earning potential, high caste prefer? Why?  \n",
    "\n",
    "**Policy 2. $T>y_0$ so they must prefer 2 over 1, and the high caste gets nothing in policy 3.**\n",
    "\n",
    ">(iii) What policy do high earning potential, low caste prefer? Why?  \n",
    "\n",
    "**Either policy 1 or 3. Their payoff under policy 3 is $\\delta = (y_0 \\lambda_0 + y_1 \\lambda_1) / \\lambda_l$** which may be greater or less than $y_1$, i.e. if $y_0 \\lambda_0 + y_1 \\lambda_1 > y_1 \\lambda_l$. Policy 2 is strictly worse than policy 3 for the low caste since they have to share the revenue with the high caste.\n",
    "\n",
    ">(iv) What policy do low earning potential, low caste prefer? Why?\n",
    "\n",
    "**Policy 3. Policy 3 is better for the low caste than policy 2, and better than policy 1 for low earners.**"
   ]
  },
  {
   "cell_type": "markdown",
   "metadata": {},
   "source": [
    "### 2f\n",
    "\n",
    ">Voting exercise. Let $y_1 = 1$ and $y_0 = 0$. Assume that a plurality always wins.  \n",
    "(i) If there are fewer low earnings potential low caste people than high earnings\n",
    "potential high caste people ($\\lambda_{0l} < \\lambda_{1h}$), and there are more low caste people than high caste people ($\\lambda_l > \\lambda_h$), which policy wins?\n",
    "\n",
    "First identify policy preference of high earning potential, low caste individuals.\n",
    "\n",
    "Under policy 3, their payoff is $\\lambda_1 / \\lambda_l$. Under policy 1, it is 1. Therefore, if $\\lambda_1 > \\lambda_l$ they will prefer policy 3. Expanding, this yields $\\lambda_{1l} + \\lambda_{1h} > \\lambda_{0l} + \\lambda_{1l}$ or $\\lambda_{1h} > \\lambda_{0l}$, which is stated as true in the problem. Therefore, this group prefers policy 3.\n",
    "\n",
    "Policy 1's support is $\\lambda_{1h}$.  \n",
    "Policy 2's support is $\\lambda_{0h}$.  \n",
    "Policy 3's support is $\\lambda_{l}$.\n",
    "\n",
    "It follows from $\\lambda_l > \\lambda_h$ (as stated in the problem) that $\\lambda_l > \\lambda_0h$ and $\\lambda_l > \\lambda_1h$, giving policy 3 a plurality. **Policy 3 wins.**"
   ]
  }
 ],
 "metadata": {
  "kernelspec": {
   "display_name": "R",
   "language": "R",
   "name": "ir"
  },
  "language_info": {
   "codemirror_mode": "r",
   "file_extension": ".r",
   "mimetype": "text/x-r-source",
   "name": "R",
   "pygments_lexer": "r",
   "version": "3.6.1"
  }
 },
 "nbformat": 4,
 "nbformat_minor": 4
}
