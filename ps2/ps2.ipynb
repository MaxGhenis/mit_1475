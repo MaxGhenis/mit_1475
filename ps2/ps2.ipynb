{
 "cells": [
  {
   "cell_type": "markdown",
   "metadata": {},
   "source": [
    "# 14.75 PS2 (Max Ghenis)\n",
    "\n",
    "## (1)\n",
    "\n",
    "Use `mitaData.RData` for the following exercise."
   ]
  },
  {
   "cell_type": "code",
   "execution_count": 1,
   "metadata": {},
   "outputs": [
    {
     "name": "stderr",
     "output_type": "stream",
     "text": [
      "Warning message:\n",
      "“package ‘zoo’ was built under R version 3.6.2”"
     ]
    }
   ],
   "source": [
    "suppressMessages({\n",
    "    library(dplyr)\n",
    "    library(magrittr)\n",
    "    library(multiwayvcov)\n",
    "    library(lmtest)\n",
    "})"
   ]
  },
  {
   "cell_type": "code",
   "execution_count": 2,
   "metadata": {},
   "outputs": [],
   "source": [
    "load('mitaData.RData')"
   ]
  },
  {
   "cell_type": "markdown",
   "metadata": {},
   "source": [
    "### (a)\n",
    ">Generate given longitude and latitude variables x, y, construct x2, y2, xy, x3, y3, x2y, xy2."
   ]
  },
  {
   "cell_type": "code",
   "execution_count": 3,
   "metadata": {},
   "outputs": [],
   "source": [
    "mitaData %<>% mutate(x2 = x^2,\n",
    "                     y2 = y^2,\n",
    "                     xy = x*y,\n",
    "                     x3 = x^3,\n",
    "                     y3 = y^3,\n",
    "                     x2y = y*x^2,\n",
    "                     xy2 = x*y^2)"
   ]
  },
  {
   "cell_type": "markdown",
   "metadata": {},
   "source": [
    "### (b)\n",
    "\n",
    "> Regress the log equivalent household consumption (2001) [lhhequiv] on mita [pothuanmita], all polynomial terms in (a), elevation [elv-sh], mean slope [slope], infants, children, adults [variable names the same], and boundary segment fixed effects [bfe4-1,\n",
    "bfe4-2, bfe4-3]. Cluster the standard errors by district [district]. Run the regression\n",
    "in 3 ways: first, for observations where the distance to mita boundary [d-bnd] is less\n",
    "than 100km, next when it is less than 75km, and lastly when it is less than 50km."
   ]
  },
  {
   "cell_type": "code",
   "execution_count": 4,
   "metadata": {},
   "outputs": [
    {
     "data": {
      "text/html": [
       "<ol class=list-inline>\n",
       "\t<li>'conglome'</li>\n",
       "\t<li>'vivienda'</li>\n",
       "\t<li>'hogar'</li>\n",
       "\t<li>'district'</li>\n",
       "\t<li>'male'</li>\n",
       "\t<li>'age'</li>\n",
       "\t<li>'ccdd'</li>\n",
       "\t<li>'ccpp'</li>\n",
       "\t<li>'ccdi'</li>\n",
       "\t<li>'hid'</li>\n",
       "\t<li>'hhmem'</li>\n",
       "\t<li>'lhhmem'</li>\n",
       "\t<li>'kids'</li>\n",
       "\t<li>'k_hhmem'</li>\n",
       "\t<li>'infants'</li>\n",
       "\t<li>'children'</li>\n",
       "\t<li>'adults'</li>\n",
       "\t<li>'ces'</li>\n",
       "\t<li>'depprov'</li>\n",
       "\t<li>'hconsump'</li>\n",
       "\t<li>'hconsumplm'</li>\n",
       "\t<li>'hhequiv'</li>\n",
       "\t<li>'lhhequiv'</li>\n",
       "\t<li>'lhhconsplm'</li>\n",
       "\t<li>'CAST'</li>\n",
       "\t<li>'QUE'</li>\n",
       "\t<li>'AYM'</li>\n",
       "\t<li>'near_x'</li>\n",
       "\t<li>'near_y'</li>\n",
       "\t<li>'cusco'</li>\n",
       "\t<li>'pothuan_mita'</li>\n",
       "\t<li>'border'</li>\n",
       "\t<li>'d_bnd'</li>\n",
       "\t<li>'bfe4_1'</li>\n",
       "\t<li>'bfe4_2'</li>\n",
       "\t<li>'bfe4_3'</li>\n",
       "\t<li>'elv_sh'</li>\n",
       "\t<li>'slope'</li>\n",
       "\t<li>'near_dist'</li>\n",
       "\t<li>'dpot'</li>\n",
       "\t<li>'lat'</li>\n",
       "\t<li>'lon'</li>\n",
       "\t<li>'dbnd_sh'</li>\n",
       "\t<li>'dbnd_sh2'</li>\n",
       "\t<li>'dbnd_sh3'</li>\n",
       "\t<li>'dbnd_sh4'</li>\n",
       "\t<li>'x'</li>\n",
       "\t<li>'y'</li>\n",
       "\t<li>'x2'</li>\n",
       "\t<li>'y2'</li>\n",
       "\t<li>'xy'</li>\n",
       "\t<li>'x3'</li>\n",
       "\t<li>'y3'</li>\n",
       "\t<li>'x2y'</li>\n",
       "\t<li>'xy2'</li>\n",
       "</ol>\n"
      ],
      "text/latex": [
       "\\begin{enumerate*}\n",
       "\\item 'conglome'\n",
       "\\item 'vivienda'\n",
       "\\item 'hogar'\n",
       "\\item 'district'\n",
       "\\item 'male'\n",
       "\\item 'age'\n",
       "\\item 'ccdd'\n",
       "\\item 'ccpp'\n",
       "\\item 'ccdi'\n",
       "\\item 'hid'\n",
       "\\item 'hhmem'\n",
       "\\item 'lhhmem'\n",
       "\\item 'kids'\n",
       "\\item 'k\\_hhmem'\n",
       "\\item 'infants'\n",
       "\\item 'children'\n",
       "\\item 'adults'\n",
       "\\item 'ces'\n",
       "\\item 'depprov'\n",
       "\\item 'hconsump'\n",
       "\\item 'hconsumplm'\n",
       "\\item 'hhequiv'\n",
       "\\item 'lhhequiv'\n",
       "\\item 'lhhconsplm'\n",
       "\\item 'CAST'\n",
       "\\item 'QUE'\n",
       "\\item 'AYM'\n",
       "\\item 'near\\_x'\n",
       "\\item 'near\\_y'\n",
       "\\item 'cusco'\n",
       "\\item 'pothuan\\_mita'\n",
       "\\item 'border'\n",
       "\\item 'd\\_bnd'\n",
       "\\item 'bfe4\\_1'\n",
       "\\item 'bfe4\\_2'\n",
       "\\item 'bfe4\\_3'\n",
       "\\item 'elv\\_sh'\n",
       "\\item 'slope'\n",
       "\\item 'near\\_dist'\n",
       "\\item 'dpot'\n",
       "\\item 'lat'\n",
       "\\item 'lon'\n",
       "\\item 'dbnd\\_sh'\n",
       "\\item 'dbnd\\_sh2'\n",
       "\\item 'dbnd\\_sh3'\n",
       "\\item 'dbnd\\_sh4'\n",
       "\\item 'x'\n",
       "\\item 'y'\n",
       "\\item 'x2'\n",
       "\\item 'y2'\n",
       "\\item 'xy'\n",
       "\\item 'x3'\n",
       "\\item 'y3'\n",
       "\\item 'x2y'\n",
       "\\item 'xy2'\n",
       "\\end{enumerate*}\n"
      ],
      "text/markdown": [
       "1. 'conglome'\n",
       "2. 'vivienda'\n",
       "3. 'hogar'\n",
       "4. 'district'\n",
       "5. 'male'\n",
       "6. 'age'\n",
       "7. 'ccdd'\n",
       "8. 'ccpp'\n",
       "9. 'ccdi'\n",
       "10. 'hid'\n",
       "11. 'hhmem'\n",
       "12. 'lhhmem'\n",
       "13. 'kids'\n",
       "14. 'k_hhmem'\n",
       "15. 'infants'\n",
       "16. 'children'\n",
       "17. 'adults'\n",
       "18. 'ces'\n",
       "19. 'depprov'\n",
       "20. 'hconsump'\n",
       "21. 'hconsumplm'\n",
       "22. 'hhequiv'\n",
       "23. 'lhhequiv'\n",
       "24. 'lhhconsplm'\n",
       "25. 'CAST'\n",
       "26. 'QUE'\n",
       "27. 'AYM'\n",
       "28. 'near_x'\n",
       "29. 'near_y'\n",
       "30. 'cusco'\n",
       "31. 'pothuan_mita'\n",
       "32. 'border'\n",
       "33. 'd_bnd'\n",
       "34. 'bfe4_1'\n",
       "35. 'bfe4_2'\n",
       "36. 'bfe4_3'\n",
       "37. 'elv_sh'\n",
       "38. 'slope'\n",
       "39. 'near_dist'\n",
       "40. 'dpot'\n",
       "41. 'lat'\n",
       "42. 'lon'\n",
       "43. 'dbnd_sh'\n",
       "44. 'dbnd_sh2'\n",
       "45. 'dbnd_sh3'\n",
       "46. 'dbnd_sh4'\n",
       "47. 'x'\n",
       "48. 'y'\n",
       "49. 'x2'\n",
       "50. 'y2'\n",
       "51. 'xy'\n",
       "52. 'x3'\n",
       "53. 'y3'\n",
       "54. 'x2y'\n",
       "55. 'xy2'\n",
       "\n",
       "\n"
      ],
      "text/plain": [
       " [1] \"conglome\"     \"vivienda\"     \"hogar\"        \"district\"     \"male\"        \n",
       " [6] \"age\"          \"ccdd\"         \"ccpp\"         \"ccdi\"         \"hid\"         \n",
       "[11] \"hhmem\"        \"lhhmem\"       \"kids\"         \"k_hhmem\"      \"infants\"     \n",
       "[16] \"children\"     \"adults\"       \"ces\"          \"depprov\"      \"hconsump\"    \n",
       "[21] \"hconsumplm\"   \"hhequiv\"      \"lhhequiv\"     \"lhhconsplm\"   \"CAST\"        \n",
       "[26] \"QUE\"          \"AYM\"          \"near_x\"       \"near_y\"       \"cusco\"       \n",
       "[31] \"pothuan_mita\" \"border\"       \"d_bnd\"        \"bfe4_1\"       \"bfe4_2\"      \n",
       "[36] \"bfe4_3\"       \"elv_sh\"       \"slope\"        \"near_dist\"    \"dpot\"        \n",
       "[41] \"lat\"          \"lon\"          \"dbnd_sh\"      \"dbnd_sh2\"     \"dbnd_sh3\"    \n",
       "[46] \"dbnd_sh4\"     \"x\"            \"y\"            \"x2\"           \"y2\"          \n",
       "[51] \"xy\"           \"x3\"           \"y3\"           \"x2y\"          \"xy2\"         "
      ]
     },
     "metadata": {},
     "output_type": "display_data"
    }
   ],
   "source": [
    "names(mitaData)"
   ]
  },
  {
   "cell_type": "code",
   "execution_count": 5,
   "metadata": {},
   "outputs": [],
   "source": [
    "mita_coef = function(threshold) {\n",
    "    d = subset(mitaData, d_bnd < threshold)\n",
    "    m = lm(lhhequiv ~\n",
    "           pothuan_mita + x + y + x2 + y2 + xy + x3 + y3 + x2y + xy2 + \n",
    "           elv_sh + slope + infants + children + adults + \n",
    "           bfe4_1 + bfe4_2 + bfe4_3,\n",
    "           data=d)\n",
    "    c = cluster.vcov(m, d$district)\n",
    "    coef = coeftest(m, c)['pothuan_mita',]\n",
    "    pc = exp(coef[1]) - 1\n",
    "    names(pc) = 'pct_change'\n",
    "    return(c(coef, pc))\n",
    "}"
   ]
  },
  {
   "cell_type": "code",
   "execution_count": 6,
   "metadata": {},
   "outputs": [
    {
     "data": {
      "text/html": [
       "<dl class=dl-horizontal>\n",
       "\t<dt>Estimate</dt>\n",
       "\t\t<dd>-0.284114760614779</dd>\n",
       "\t<dt>Std. Error</dt>\n",
       "\t\t<dd>0.198898695503131</dd>\n",
       "\t<dt>t value</dt>\n",
       "\t\t<dd>-1.42843953750469</dd>\n",
       "\t<dt>Pr(&gt;|t|)</dt>\n",
       "\t\t<dd>0.153379417743452</dd>\n",
       "\t<dt>pct_change</dt>\n",
       "\t\t<dd>-0.247319738299957</dd>\n",
       "</dl>\n"
      ],
      "text/latex": [
       "\\begin{description*}\n",
       "\\item[Estimate] -0.284114760614779\n",
       "\\item[Std. Error] 0.198898695503131\n",
       "\\item[t value] -1.42843953750469\n",
       "\\item[Pr(>\\textbackslash{}textbar\\{\\}t\\textbackslash{}textbar\\{\\})] 0.153379417743452\n",
       "\\item[pct\\textbackslash{}\\_change] -0.247319738299957\n",
       "\\end{description*}\n"
      ],
      "text/markdown": [
       "Estimate\n",
       ":   -0.284114760614779Std. Error\n",
       ":   0.198898695503131t value\n",
       ":   -1.42843953750469Pr(&amp;gt;|t|)\n",
       ":   0.153379417743452pct_change\n",
       ":   -0.247319738299957\n",
       "\n"
      ],
      "text/plain": [
       "  Estimate Std. Error    t value   Pr(>|t|) pct_change \n",
       "-0.2841148  0.1988987 -1.4284395  0.1533794 -0.2473197 "
      ]
     },
     "metadata": {},
     "output_type": "display_data"
    }
   ],
   "source": [
    "mita_coef(100)"
   ]
  },
  {
   "cell_type": "code",
   "execution_count": 7,
   "metadata": {},
   "outputs": [
    {
     "data": {
      "text/html": [
       "<dl class=dl-horizontal>\n",
       "\t<dt>Estimate</dt>\n",
       "\t\t<dd>-0.216447002706663</dd>\n",
       "\t<dt>Std. Error</dt>\n",
       "\t\t<dd>0.207492016750054</dd>\n",
       "\t<dt>t value</dt>\n",
       "\t\t<dd>-1.04315821927451</dd>\n",
       "\t<dt>Pr(&gt;|t|)</dt>\n",
       "\t\t<dd>0.297095789942902</dd>\n",
       "\t<dt>pct_change</dt>\n",
       "\t\t<dd>-0.194624783501747</dd>\n",
       "</dl>\n"
      ],
      "text/latex": [
       "\\begin{description*}\n",
       "\\item[Estimate] -0.216447002706663\n",
       "\\item[Std. Error] 0.207492016750054\n",
       "\\item[t value] -1.04315821927451\n",
       "\\item[Pr(>\\textbackslash{}textbar\\{\\}t\\textbackslash{}textbar\\{\\})] 0.297095789942902\n",
       "\\item[pct\\textbackslash{}\\_change] -0.194624783501747\n",
       "\\end{description*}\n"
      ],
      "text/markdown": [
       "Estimate\n",
       ":   -0.216447002706663Std. Error\n",
       ":   0.207492016750054t value\n",
       ":   -1.04315821927451Pr(&amp;gt;|t|)\n",
       ":   0.297095789942902pct_change\n",
       ":   -0.194624783501747\n",
       "\n"
      ],
      "text/plain": [
       "  Estimate Std. Error    t value   Pr(>|t|) pct_change \n",
       "-0.2164470  0.2074920 -1.0431582  0.2970958 -0.1946248 "
      ]
     },
     "metadata": {},
     "output_type": "display_data"
    }
   ],
   "source": [
    "mita_coef(75)"
   ]
  },
  {
   "cell_type": "code",
   "execution_count": 8,
   "metadata": {},
   "outputs": [
    {
     "data": {
      "text/html": [
       "<dl class=dl-horizontal>\n",
       "\t<dt>Estimate</dt>\n",
       "\t\t<dd>-0.331077624498464</dd>\n",
       "\t<dt>Std. Error</dt>\n",
       "\t\t<dd>0.219249417126658</dd>\n",
       "\t<dt>t value</dt>\n",
       "\t\t<dd>-1.5100501923214</dd>\n",
       "\t<dt>Pr(&gt;|t|)</dt>\n",
       "\t\t<dd>0.131348419765753</dd>\n",
       "\t<dt>pct_change</dt>\n",
       "\t\t<dd>-0.281850579111732</dd>\n",
       "</dl>\n"
      ],
      "text/latex": [
       "\\begin{description*}\n",
       "\\item[Estimate] -0.331077624498464\n",
       "\\item[Std. Error] 0.219249417126658\n",
       "\\item[t value] -1.5100501923214\n",
       "\\item[Pr(>\\textbackslash{}textbar\\{\\}t\\textbackslash{}textbar\\{\\})] 0.131348419765753\n",
       "\\item[pct\\textbackslash{}\\_change] -0.281850579111732\n",
       "\\end{description*}\n"
      ],
      "text/markdown": [
       "Estimate\n",
       ":   -0.331077624498464Std. Error\n",
       ":   0.219249417126658t value\n",
       ":   -1.5100501923214Pr(&amp;gt;|t|)\n",
       ":   0.131348419765753pct_change\n",
       ":   -0.281850579111732\n",
       "\n"
      ],
      "text/plain": [
       "  Estimate Std. Error    t value   Pr(>|t|) pct_change \n",
       "-0.3310776  0.2192494 -1.5100502  0.1313484 -0.2818506 "
      ]
     },
     "metadata": {},
     "output_type": "display_data"
    }
   ],
   "source": [
    "mita_coef(50)"
   ]
  },
  {
   "cell_type": "markdown",
   "metadata": {},
   "source": [
    "#### (i)\n",
    ">What is the coefficient on mita? Are the results significant at the 5% level?\n",
    "Interpret it.\n",
    "\n",
    "**At thresholds of 100, 75, and 50, the coefficient on mita is -0.28, -0.22, and -0.33, respectively. It is not significant at the 5% level in any case (p = 0.15, 0.30, and 0.13 respectively). It means that the mita is associated with 20 to 28 percent decreases in equivalent household consumption (after exponentiating, controlling for all other covariates).**"
   ]
  },
  {
   "cell_type": "markdown",
   "metadata": {},
   "source": [
    "### (c)\n",
    "\n",
    ">Run the same regressions as in (b), but instead of polynomial terms in longitude and\n",
    "latitude, use a cubic polynomial in distance to Potosi [dpot]. That is, include the\n",
    "first, second and third powers of this variable in the regressions. Again, cluster the\n",
    "standard errors by district and run the regression in 3 ways: first, for observations\n",
    "where the distance to mita boundary [d-bnd] is less than 100km, next when it is less\n",
    "than 75km, and lastly when it is less than 50km."
   ]
  },
  {
   "cell_type": "code",
   "execution_count": 9,
   "metadata": {},
   "outputs": [],
   "source": [
    "mitaData %<>% mutate(dpot2 = dpot^2,\n",
    "                     dpot3 = dpot^3)"
   ]
  },
  {
   "cell_type": "code",
   "execution_count": 10,
   "metadata": {},
   "outputs": [],
   "source": [
    "mita_coef_dpot = function(threshold) {\n",
    "    d = subset(mitaData, d_bnd < threshold)\n",
    "    m = lm(lhhequiv ~\n",
    "           pothuan_mita + dpot + dpot2 + dpot3 +\n",
    "           elv_sh + slope + infants + children + adults + \n",
    "           bfe4_1 + bfe4_2 + bfe4_3,\n",
    "           data=d)\n",
    "    c = cluster.vcov(m, d$district)\n",
    "    coef = coeftest(m, c)['pothuan_mita',]\n",
    "    pc = exp(coef[1]) - 1\n",
    "    names(pc) = 'pct_change'\n",
    "    return(c(coef, pc))\n",
    "}"
   ]
  },
  {
   "cell_type": "code",
   "execution_count": 11,
   "metadata": {},
   "outputs": [
    {
     "data": {
      "text/html": [
       "<dl class=dl-horizontal>\n",
       "\t<dt>Estimate</dt>\n",
       "\t\t<dd>-0.336809672535278</dd>\n",
       "\t<dt>Std. Error</dt>\n",
       "\t\t<dd>0.0870027985286872</dd>\n",
       "\t<dt>t value</dt>\n",
       "\t\t<dd>-3.87125101986487</dd>\n",
       "\t<dt>Pr(&gt;|t|)</dt>\n",
       "\t\t<dd>0.000113041045859217</dd>\n",
       "\t<dt>pct_change</dt>\n",
       "\t\t<dd>-0.285955270706407</dd>\n",
       "</dl>\n"
      ],
      "text/latex": [
       "\\begin{description*}\n",
       "\\item[Estimate] -0.336809672535278\n",
       "\\item[Std. Error] 0.0870027985286872\n",
       "\\item[t value] -3.87125101986487\n",
       "\\item[Pr(>\\textbackslash{}textbar\\{\\}t\\textbackslash{}textbar\\{\\})] 0.000113041045859217\n",
       "\\item[pct\\textbackslash{}\\_change] -0.285955270706407\n",
       "\\end{description*}\n"
      ],
      "text/markdown": [
       "Estimate\n",
       ":   -0.336809672535278Std. Error\n",
       ":   0.0870027985286872t value\n",
       ":   -3.87125101986487Pr(&amp;gt;|t|)\n",
       ":   0.000113041045859217pct_change\n",
       ":   -0.285955270706407\n",
       "\n"
      ],
      "text/plain": [
       "    Estimate   Std. Error      t value     Pr(>|t|)   pct_change \n",
       "-0.336809673  0.087002799 -3.871251020  0.000113041 -0.285955271 "
      ]
     },
     "metadata": {},
     "output_type": "display_data"
    }
   ],
   "source": [
    "mita_coef_dpot(100)"
   ]
  },
  {
   "cell_type": "code",
   "execution_count": 12,
   "metadata": {},
   "outputs": [
    {
     "data": {
      "text/html": [
       "<dl class=dl-horizontal>\n",
       "\t<dt>Estimate</dt>\n",
       "\t\t<dd>-0.306956254480566</dd>\n",
       "\t<dt>Std. Error</dt>\n",
       "\t\t<dd>0.100648959792404</dd>\n",
       "\t<dt>t value</dt>\n",
       "\t\t<dd>-3.04977075882043</dd>\n",
       "\t<dt>Pr(&gt;|t|)</dt>\n",
       "\t\t<dd>0.00234264936855835</dd>\n",
       "\t<dt>pct_change</dt>\n",
       "\t\t<dd>-0.264317216971181</dd>\n",
       "</dl>\n"
      ],
      "text/latex": [
       "\\begin{description*}\n",
       "\\item[Estimate] -0.306956254480566\n",
       "\\item[Std. Error] 0.100648959792404\n",
       "\\item[t value] -3.04977075882043\n",
       "\\item[Pr(>\\textbackslash{}textbar\\{\\}t\\textbackslash{}textbar\\{\\})] 0.00234264936855835\n",
       "\\item[pct\\textbackslash{}\\_change] -0.264317216971181\n",
       "\\end{description*}\n"
      ],
      "text/markdown": [
       "Estimate\n",
       ":   -0.306956254480566Std. Error\n",
       ":   0.100648959792404t value\n",
       ":   -3.04977075882043Pr(&amp;gt;|t|)\n",
       ":   0.00234264936855835pct_change\n",
       ":   -0.264317216971181\n",
       "\n"
      ],
      "text/plain": [
       "    Estimate   Std. Error      t value     Pr(>|t|)   pct_change \n",
       "-0.306956254  0.100648960 -3.049770759  0.002342649 -0.264317217 "
      ]
     },
     "metadata": {},
     "output_type": "display_data"
    }
   ],
   "source": [
    "mita_coef_dpot(75)"
   ]
  },
  {
   "cell_type": "code",
   "execution_count": 13,
   "metadata": {},
   "outputs": [
    {
     "data": {
      "text/html": [
       "<dl class=dl-horizontal>\n",
       "\t<dt>Estimate</dt>\n",
       "\t\t<dd>-0.328620272991081</dd>\n",
       "\t<dt>Std. Error</dt>\n",
       "\t\t<dd>0.0959422589639007</dd>\n",
       "\t<dt>t value</dt>\n",
       "\t\t<dd>-3.42518798848303</dd>\n",
       "\t<dt>Pr(&gt;|t|)</dt>\n",
       "\t\t<dd>0.000639338091773316</dd>\n",
       "\t<dt>pct_change</dt>\n",
       "\t\t<dd>-0.280083663472518</dd>\n",
       "</dl>\n"
      ],
      "text/latex": [
       "\\begin{description*}\n",
       "\\item[Estimate] -0.328620272991081\n",
       "\\item[Std. Error] 0.0959422589639007\n",
       "\\item[t value] -3.42518798848303\n",
       "\\item[Pr(>\\textbackslash{}textbar\\{\\}t\\textbackslash{}textbar\\{\\})] 0.000639338091773316\n",
       "\\item[pct\\textbackslash{}\\_change] -0.280083663472518\n",
       "\\end{description*}\n"
      ],
      "text/markdown": [
       "Estimate\n",
       ":   -0.328620272991081Std. Error\n",
       ":   0.0959422589639007t value\n",
       ":   -3.42518798848303Pr(&amp;gt;|t|)\n",
       ":   0.000639338091773316pct_change\n",
       ":   -0.280083663472518\n",
       "\n"
      ],
      "text/plain": [
       "     Estimate    Std. Error       t value      Pr(>|t|)    pct_change \n",
       "-0.3286202730  0.0959422590 -3.4251879885  0.0006393381 -0.2800836635 "
      ]
     },
     "metadata": {},
     "output_type": "display_data"
    }
   ],
   "source": [
    "mita_coef_dpot(50)"
   ]
  },
  {
   "cell_type": "markdown",
   "metadata": {},
   "source": [
    "#### (i)\n",
    "\n",
    ">What is the coefficient on mita? Are the results significant at the 5% level?\n",
    "Interpret it.\n",
    "\n",
    "**The coefficient on `mita` ranges from -0.34 to -0.31 depending on the distance threshold, corresponding to reductions of equivalent household consumption between 26 and 29 percent. Each case is significant at the 5% level.**"
   ]
  },
  {
   "cell_type": "markdown",
   "metadata": {},
   "source": [
    "### (d)\n",
    "\n",
    "> Is there any difference between the coefficients on mita in (b) and (c) as well as their\n",
    "significances? If yes, why might there be a difference? If no, why should we expect\n",
    "the same?\n",
    "\n",
    "**The `mita` coefficients are lower when using x-y polynomials farther from the border, compared to distance-to-Potosi polynomials. \n",
    "\n",
    "TODO****"
   ]
  },
  {
   "cell_type": "code",
   "execution_count": null,
   "metadata": {},
   "outputs": [],
   "source": []
  }
 ],
 "metadata": {
  "kernelspec": {
   "display_name": "R",
   "language": "R",
   "name": "ir"
  },
  "language_info": {
   "codemirror_mode": "r",
   "file_extension": ".r",
   "mimetype": "text/x-r-source",
   "name": "R",
   "pygments_lexer": "r",
   "version": "3.6.1"
  }
 },
 "nbformat": 4,
 "nbformat_minor": 4
}
